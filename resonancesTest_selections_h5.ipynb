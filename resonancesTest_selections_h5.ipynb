{
 "cells": [
  {
   "cell_type": "code",
   "execution_count": null,
   "id": "24dc59e2-7202-46e1-b86e-700108b9d0a5",
   "metadata": {},
   "outputs": [],
   "source": [
    "import numpy as np\n",
    "import awkward as ak\n",
    "import uproot\n",
    "import matplotlib.pyplot as plt\n",
    "import hist\n",
    "import hist.dask as hda\n",
    "import dask\n",
    "import coffea.processor as processor\n",
    "from coffea.nanoevents import NanoEventsFactory, NanoAODSchema\n",
    "import vector\n",
    "\n",
    "NanoAODSchema.warn_missing_crossrefs = False"
   ]
  },
  {
   "cell_type": "code",
   "execution_count": null,
   "id": "4aa706a3-3bb5-4b73-b6ee-84d9537b7efa",
   "metadata": {},
   "outputs": [],
   "source": [
    "# Datasets:\n",
    "#/BulkGravToWW_narrow_M-*_13TeV-madgraph/*NanoAODv7*/NANOAODSIM\n",
    "#/RSGravToWWToWlepWhad_width0p1_M-*_TuneCUETP8M1_13TeV-madgraph-pythia8/*NanoAODv3*/NANOAODSIM\n",
    "\n",
    "\n",
    "# When having a large number of files it is useful to put the list on a separate file.\n",
    "# import json\n",
    "\n",
    "# with open(\"semileptonic_notebooks/samples.json\", 'r') as sample_file:\n",
    "#     fileset = json.load(sample_file)\n",
    "\n",
    "# for sample in fileset:\n",
    "#     print(sample)\n",
    "\n",
    "# For now we are only testing on a limited number of files so they are just listed here\n",
    "fileset = {\n",
    "    'BulkGravToWW': {\n",
    "        'files': {\n",
    "            'root://cmsxrootd.fnal.gov//store/mc/RunIISummer16NanoAODv7/BulkGravToWW_narrow_M-1000_13TeV-madgraph/NANOAODSIM/PUMoriond17_Nano02Apr2020_102X_mcRun2_asymptotic_v8-v1/100000/D4404DCB-FBF8-C640-87B0-2DA1D5139083.root': \"Events\",\n",
    "        },\n",
    "        'metadata': {\n",
    "            'is_mc': 'Events',\n",
    "        },\n",
    "    },\n",
    "    'RSGravToWW': {\n",
    "        'files': {\n",
    "            'root://cmsxrootd.fnal.gov//store/mc/RunIISummer16NanoAODv3/RSGravToWWToWlepWhad_width0p1_M-1200_TuneCUETP8M1_13TeV-madgraph-pythia8/NANOAODSIM/PUMoriond17_94X_mcRun2_asymptotic_v3-v1/60000/4442437A-52BB-E811-A8DA-90E2BACC5EEC.root': \"Events\",\n",
    "          },\n",
    "        'metadata': {\n",
    "            'is_mc': 'Events',\n",
    "        },\n",
    "    }\n",
    "}"
   ]
  },
  {
   "cell_type": "code",
   "execution_count": null,
   "id": "614be34f-2707-4b8c-96df-6ab9d7d969e0",
   "metadata": {},
   "outputs": [],
   "source": [
    "# This step takes some time because it is loading the events\n",
    "test_dataset = 'BulkGravToWW'\n",
    "events = NanoEventsFactory.from_root(\n",
    "    fileset[test_dataset]['files'],\n",
    "    entry_stop = 1000,\n",
    "    metadata = fileset[test_dataset]['metadata'],\n",
    "    schemaclass = NanoAODSchema,\n",
    "    delayed=False,\n",
    ").events()"
   ]
  },
  {
   "cell_type": "markdown",
   "id": "ef817745-693f-420e-9774-1e87cf420813",
   "metadata": {},
   "source": [
    "### Selecting interesting events\n",
    "\n",
    "We will need to discuss what does it mean. For instance it could be events where both W decay to quarks to enhance our NN training sample, events where one W decays to leptons and one to quarks that more similar to what we will have in our final analysis. One could also select events where both Ws decay to leptons to compare with previous studies..."
   ]
  },
  {
   "cell_type": "markdown",
   "id": "1d96ba99-00f8-4a2f-8e43-09e451d1de75",
   "metadata": {},
   "source": [
    "### TASK 1:\n",
    "Lets refresh what is insiede an event"
   ]
  },
  {
   "cell_type": "code",
   "execution_count": null,
   "id": "9ef6d729-ea31-4d9d-bb12-bbf3d963d217",
   "metadata": {
    "scrolled": true
   },
   "outputs": [],
   "source": [
    "events.fields"
   ]
  },
  {
   "cell_type": "markdown",
   "id": "5425db2a-18b8-4dd8-be18-370dba6ad22e",
   "metadata": {},
   "source": [
    "### TASK 2:\n",
    "\n",
    "You should already be familiar with some of the fields but you can try to understand more here https://cms-nanoaod-integration.web.cern.ch/.\n",
    "\n",
    "The link above is very technical and used by experienced analyzers so I do not expect you to learn or understand everything in it (I also do not know all!!)"
   ]
  },
  {
   "cell_type": "markdown",
   "id": "845a8790-24f7-48e1-871b-c3d7709710e1",
   "metadata": {},
   "source": [
    "### TASK 3:\n",
    "\n",
    "Let's apply basic selections on Muons and Electrons. Understand what the selections mean. You can have a better idea of their effect if you plot some variables as the pt or if you print the number of electrons/muons in the event. Or how many events are passing the selections."
   ]
  },
  {
   "cell_type": "code",
   "execution_count": null,
   "id": "af6250d3-c52e-49a9-9d78-e58a28da185c",
   "metadata": {},
   "outputs": [],
   "source": [
    "muons = events.Muon\n",
    "electrons = events.Electron\n",
    "\n",
    "\n",
    "# Muon Tight selection\n",
    "muons_tight = muons[\n",
    "    (muons.pt > 10) &\n",
    "    (np.abs(muons.eta) < 2.4) &\n",
    "    (muons.tightId) &\n",
    "    (\n",
    "        ((muons.pt < 20) & (np.abs(muons.dxy) < 0.01)) |\n",
    "        ((muons.pt >= 20) & (np.abs(muons.dxy) < 0.02))\n",
    "    ) &\n",
    "    (np.abs(muons.dz) < 0.1) &\n",
    "    # particle flow isolated: tight or greater\n",
    "    (muons.pfIsoId >= 4)\n",
    "]\n",
    "\n"
   ]
  },
  {
   "cell_type": "markdown",
   "id": "385a685b-0e82-45d8-9ca9-fd754afb1b07",
   "metadata": {},
   "source": [
    "### TASK 4:\n",
    "\n",
    "Try to add similar selections for the electrons as well\n",
    "\n"
   ]
  },
  {
   "cell_type": "markdown",
   "id": "b67abaa5-ded3-40cf-a764-084eeb975174",
   "metadata": {},
   "source": [
    "### TASK 5: \n",
    "\n",
    "Now require to have exactly one tightly identified electron or muon\n",
    "and apply the following thresholds\n",
    "```\n",
    "electron_pt_threshold = 35\n",
    "muon_pt_threshold = 30\n",
    "pt_miss_threshold = 30\n",
    "```"
   ]
  },
  {
   "cell_type": "code",
   "execution_count": null,
   "id": "c40b968b-a628-4c7c-bb8f-19faab8cf053",
   "metadata": {},
   "outputs": [],
   "source": [
    "# Here are also some looser selections \n",
    "# You can play plotting variables for tight and loose identified leptons, \n",
    "# but it is not required...... \n",
    "loose_muons = muons[muons.looseId]\n",
    "loose_muon_count = ak.num(loose_muons[loose_muons.pt > 10])\n",
    "\n",
    "loose_electrons = electrons[(electrons.cutBased >= 2)]\n",
    "loose_electron_count = ak.num(loose_electrons[loose_electrons.pt > 10])\n",
    "\n",
    "# Mask for vetoing extra loose leptons\n",
    "loose_lepton_veto_mask = (loose_muon_count + loose_electron_count) == 1"
   ]
  },
  {
   "cell_type": "markdown",
   "id": "a874ae59-29ab-4c1e-944b-dc4fa9ae2126",
   "metadata": {},
   "source": [
    "## We are mostly interested in Jets! "
   ]
  },
  {
   "cell_type": "markdown",
   "id": "b9f889e1-83aa-44fb-a39a-78a25977192d",
   "metadata": {},
   "source": [
    "### TASK 6:\n",
    "\n",
    "Check the selections applied below on the jets. As before it is useful to plot some distributions like the jet mass or the momentum before and after applying the selections to check their effect and see how many events or jets pass a certain selection."
   ]
  },
  {
   "cell_type": "code",
   "execution_count": null,
   "id": "40ac0a1b-3614-4ae6-ae7e-ec95f6648fb4",
   "metadata": {},
   "outputs": [],
   "source": [
    "# FatJets cuts\n",
    "clean_fatJets = events.FatJet[(events.FatJet.pt > 200) & (np.abs(events.FatJet.eta) < 2.4)]\n",
    "\n",
    "#Jets cuts\n",
    "clean_Jets = events.Jet[(events.Jet.pt > 30) & (np.abs(events.Jet.eta) < 4.7)]"
   ]
  },
  {
   "cell_type": "markdown",
   "id": "26c73e51-0012-40f3-946b-aa62116d280e",
   "metadata": {},
   "source": [
    "### TASK 7:\n",
    "\n",
    "To avoid double counting we need to remove Jets overlapping with FatJets. Check how this is done below."
   ]
  },
  {
   "cell_type": "code",
   "execution_count": null,
   "id": "93ecb973-474b-4b5a-a427-ce4191a63689",
   "metadata": {},
   "outputs": [],
   "source": [
    "\n",
    "#Removing AK4(Jet) jets overlapping with AK8(FatJets) jets\n",
    "# Get all combinations of jets and fatjets in every event\n",
    "jets_fatjets = ak.cartesian({\"x\": clean_Jets, \"y\": clean_fatJets})\n",
    "# Check that jets satisfy the isolation\n",
    "jets_iso_f = ((jets_fatjets[\"x\"].eta-jets_fatjets[\"y\"].eta)**2+(jets_fatjets[\"x\"].phi-jets_fatjets[\"y\"].phi)**2>0.8**2)\n",
    "# Mask the jets_fatjets with the jets_iso_f to get jets isolated from fatjets\n",
    "jets_fatjets = jets_fatjets[jets_iso_f]\n",
    "# Separate pairs into jets and fatjets, redefining the jets (but not the fatjets)\n",
    "jets, fj = ak.unzip(jets_fatjets)"
   ]
  },
  {
   "cell_type": "markdown",
   "id": "d405b1a6-d362-4d00-9566-f1a7e1c81c21",
   "metadata": {},
   "source": [
    "### TASK 8:\n",
    "\n",
    "1) Can you add below the initial FatJet pt distribution? and see how it is changed after applying all selections\n",
    "2) Can you plot the second leading jet?"
   ]
  },
  {
   "cell_type": "code",
   "execution_count": null,
   "id": "020bce62-eec1-4301-836f-ba657c4b1b1f",
   "metadata": {},
   "outputs": [],
   "source": [
    "AK8jets_candidates_mask = ak.num(clean_fatJets) >= 1\n",
    "\n",
    "Wjets_candidates = clean_fatJets[AK8jets_candidates_mask]\n",
    "leading_W_jet = Wjets_candidates[:, 0]\n",
    "leading_W_jet_pt = leading_W_jet.pt\n",
    "\n",
    "leading_W_pt_hist = hist.Hist(hist.axis.StrCategory(name='dataset', label=\"Dataset\", categories=[], growth=True),\n",
    "                            hist.axis.Regular(name='leading_AK8_pt', label='Leading AK8 p_T (GeV)', bins=80, start=0, stop=4000))\n",
    "leading_W_pt_hist.fill(dataset=test_dataset, leading_AK8_pt=leading_W_jet_pt)\n",
    "leading_W_pt_hist.plot1d()"
   ]
  },
  {
   "cell_type": "markdown",
   "id": "011580b4-e317-4ff1-9fbd-b310dcfacd46",
   "metadata": {},
   "source": [
    "## Now that you are familiar with the physics behind what we are doing we move to the ML part\n"
   ]
  },
  {
   "cell_type": "markdown",
   "id": "85267d21-e1b8-4d85-88e4-e9b04908018e",
   "metadata": {},
   "source": [
    "### TASK 9: \n",
    "\n",
    "To train the neural network it is useful to first select the interesting events (as we have done above). But now we need to save the events and variables in a more useful file format called h5. Check the example below to see how to add variables to be saved"
   ]
  },
  {
   "cell_type": "code",
   "execution_count": null,
   "id": "e07d7be4-ddf7-49db-a949-4e9fa84206c7",
   "metadata": {},
   "outputs": [],
   "source": [
    "# basic h5 creation\n",
    "import pandas as pd\n",
    "# Convert awkward array to numpy array (flat)\n",
    "leading_W_jet_pt_np = ak.to_numpy(leading_W_jet_pt)\n",
    "leading_W_jet_eta_np = ak.to_numpy(leading_W_jet.eta)\n",
    "# Optional — wrap in a DataFrame for easy labeling\n",
    "df_leading_W_jet_pt = pd.DataFrame({'leading_W_jet_pt': leading_W_jet_pt_np, 'leading_W_jet_eta': leading_W_jet_eta_np})\n"
   ]
  },
  {
   "cell_type": "code",
   "execution_count": null,
   "id": "051c849f-0fc7-454c-a95a-3c57e95cf4e1",
   "metadata": {},
   "outputs": [],
   "source": [
    "df_leading_W_jet_pt.to_hdf('leading_W_jet_pt.h5', key='df', mode='w')\n"
   ]
  },
  {
   "cell_type": "code",
   "execution_count": null,
   "id": "79b48ba0-5ba8-4fd2-a7bf-8d60947cc7a9",
   "metadata": {},
   "outputs": [],
   "source": [
    "# run this command to see if the file has been creatd\n",
    "import os\n",
    "os.listdir('.')"
   ]
  },
  {
   "cell_type": "code",
   "execution_count": null,
   "id": "e2d70097-f13f-43a2-b68d-0ac9946bf317",
   "metadata": {
    "scrolled": true
   },
   "outputs": [],
   "source": [
    "# now read the file to see if it looks ok\n",
    "pd.read_hdf('leading_W_jet_pt.h5')\n"
   ]
  },
  {
   "cell_type": "markdown",
   "id": "3590aa3f-30b9-4f32-8335-d4233fcbadf9",
   "metadata": {},
   "source": [
    "### TASK 10: \n",
    "\n",
    "Now we need to add variables that will be useful for our polarization tagger. So cos theta is one of them for sure! You can recall the calculations from the other notebook. \n",
    "\n",
    "Are there more variables we want to add? If nothing else comes up we can \n",
    "1) add the full stats!!\n",
    "2) move to the ML part! "
   ]
  },
  {
   "cell_type": "code",
   "execution_count": null,
   "id": "a75e0f53-2d4e-483c-bc8d-ed2c6f2bf02c",
   "metadata": {},
   "outputs": [],
   "source": []
  }
 ],
 "metadata": {
  "kernelspec": {
   "display_name": "Python 3 (ipykernel)",
   "language": "python",
   "name": "python3"
  },
  "language_info": {
   "codemirror_mode": {
    "name": "ipython",
    "version": 3
   },
   "file_extension": ".py",
   "mimetype": "text/x-python",
   "name": "python",
   "nbconvert_exporter": "python",
   "pygments_lexer": "ipython3",
   "version": "3.12.5"
  }
 },
 "nbformat": 4,
 "nbformat_minor": 5
}
