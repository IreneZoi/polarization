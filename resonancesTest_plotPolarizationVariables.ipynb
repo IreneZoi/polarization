{
 "cells": [
  {
   "cell_type": "code",
   "execution_count": null,
   "id": "24dc59e2-7202-46e1-b86e-700108b9d0a5",
   "metadata": {},
   "outputs": [],
   "source": [
    "import numpy as np\n",
    "import awkward as ak\n",
    "import uproot\n",
    "import matplotlib.pyplot as plt\n",
    "import hist\n",
    "import hist.dask as hda\n",
    "import dask\n",
    "import coffea.processor as processor\n",
    "from coffea.nanoevents import NanoEventsFactory, NanoAODSchema\n",
    "import vector\n",
    "\n",
    "NanoAODSchema.warn_missing_crossrefs = False"
   ]
  },
  {
   "cell_type": "code",
   "execution_count": null,
   "id": "4aa706a3-3bb5-4b73-b6ee-84d9537b7efa",
   "metadata": {},
   "outputs": [],
   "source": [
    "# Datasets:\n",
    "#/BulkGravToWW_narrow_M-*_13TeV-madgraph/*NanoAODv7*/NANOAODSIM\n",
    "#/RSGravToWWToWlepWhad_width0p1_M-*_TuneCUETP8M1_13TeV-madgraph-pythia8/*NanoAODv3*/NANOAODSIM\n",
    "\n",
    "\n",
    "# When having a large number of files it is useful to put the list on a separate file.\n",
    "# import json\n",
    "\n",
    "# with open(\"semileptonic_notebooks/samples.json\", 'r') as sample_file:\n",
    "#     fileset = json.load(sample_file)\n",
    "\n",
    "# for sample in fileset:\n",
    "#     print(sample)\n",
    "\n",
    "# For now we are only testing on a limited number of files so they are just listed here\n",
    "fileset = {\n",
    "    'BulkGravToWW': {\n",
    "        'files': {\n",
    "            'root://cmsxrootd.fnal.gov//store/mc/RunIISummer16NanoAODv7/BulkGravToWW_narrow_M-1000_13TeV-madgraph/NANOAODSIM/PUMoriond17_Nano02Apr2020_102X_mcRun2_asymptotic_v8-v1/100000/D4404DCB-FBF8-C640-87B0-2DA1D5139083.root': \"Events\",\n",
    "        },\n",
    "        'metadata': {\n",
    "            'is_mc': 'Events',\n",
    "        },\n",
    "    },\n",
    "    'RSGravToWW': {\n",
    "        'files': {\n",
    "            'root://cmsxrootd.fnal.gov//store/mc/RunIISummer16NanoAODv3/RSGravToWWToWlepWhad_width0p1_M-1200_TuneCUETP8M1_13TeV-madgraph-pythia8/NANOAODSIM/PUMoriond17_94X_mcRun2_asymptotic_v3-v1/60000/4442437A-52BB-E811-A8DA-90E2BACC5EEC.root': \"Events\",\n",
    "          },\n",
    "        'metadata': {\n",
    "            'is_mc': 'Events',\n",
    "        },\n",
    "    }\n",
    "}"
   ]
  },
  {
   "cell_type": "code",
   "execution_count": null,
   "id": "614be34f-2707-4b8c-96df-6ab9d7d969e0",
   "metadata": {},
   "outputs": [],
   "source": [
    "# This step takes some time because it is loading the events\n",
    "test_dataset = 'BulkGravToWW'\n",
    "events = NanoEventsFactory.from_root(\n",
    "    fileset[test_dataset]['files'],\n",
    "    entry_stop = 1000, # this limit the number of events, good to experiment more quickly\n",
    "    metadata = fileset[test_dataset]['metadata'],\n",
    "    schemaclass = NanoAODSchema,\n",
    "    delayed=False,\n",
    ").events()"
   ]
  },
  {
   "cell_type": "code",
   "execution_count": null,
   "id": "b7e5cd7d-0168-4ff5-adf9-dfc45cda2703",
   "metadata": {},
   "outputs": [],
   "source": [
    "# This code was written by David https://github.com/wbuitrago/Scripts_HadronicVBS/blob/main/Costheta.py\n",
    "def get_w_decay_quark_pairs_gen(events):\n",
    "    \"\"\"\n",
    "    Extraction of pairs of quarks coming from a W boson at generator level\n",
    "    Gave a 'vector.Momentum4D'.\n",
    "    \"\"\"\n",
    "    if events is None or len(events) == 0:\n",
    "        return []\n",
    "        \n",
    "    pdgId = events.GenPart.pdgId\n",
    "    mothers = events.GenPart.genPartIdxMother\n",
    "    \n",
    "    all_quark_pairs_vectors = []\n",
    "\n",
    "    print(f\"[INFO] Processing events to find W -> qq'.\")\n",
    "    num_w_decay_to_quarks = 0\n",
    "    for i in range(len(events)): \n",
    "        event_pdgId = pdgId[i]\n",
    "        event_mothers = mothers[i]\n",
    "        \n",
    "        # Label of the W boson in the actual event\n",
    "        # abs(pdgId) == 24 for W+ and W-\n",
    "        w_indices_in_event = ak.local_index(event_pdgId)[abs(event_pdgId) == 24]\n",
    "\n",
    "        for w_idx in w_indices_in_event:\n",
    "            # Indexes for the quarks doughters coming from to the W (abs(pdgId) between 1 and 6)\n",
    "            daughter_indices = ak.local_index(event_pdgId)[\n",
    "                (event_mothers == w_idx) & (abs(event_pdgId) >= 1) & (abs(event_pdgId) <= 6)\n",
    "            ]\n",
    "            \n",
    "            if len(daughter_indices) == 2:\n",
    "                num_w_decay_to_quarks += 1\n",
    "                q1_data = {\n",
    "                    \"pt\": events.GenPart.pt[i][daughter_indices[0]],\n",
    "                    \"eta\": events.GenPart.eta[i][daughter_indices[0]],\n",
    "                    \"phi\": events.GenPart.phi[i][daughter_indices[0]],\n",
    "                    \"mass\": events.GenPart.mass[i][daughter_indices[0]],\n",
    "                }\n",
    "                q2_data = {\n",
    "                    \"pt\": events.GenPart.pt[i][daughter_indices[1]],\n",
    "                    \"eta\": events.GenPart.eta[i][daughter_indices[1]],\n",
    "                    \"phi\": events.GenPart.phi[i][daughter_indices[1]],\n",
    "                    \"mass\": events.GenPart.mass[i][daughter_indices[1]],\n",
    "                }\n",
    "                q1_vec = vector.obj(pt=q1_data[\"pt\"], eta=q1_data[\"eta\"], phi=q1_data[\"phi\"], mass=q1_data[\"mass\"])\n",
    "                q2_vec = vector.obj(pt=q2_data[\"pt\"], eta=q2_data[\"eta\"], phi=q2_data[\"phi\"], mass=q2_data[\"mass\"])\n",
    "                all_quark_pairs_vectors.append([q1_vec, q2_vec])\n",
    "                \n",
    "    print(f\"[INFO] Found {len(all_quark_pairs_vectors)} pairs of quarks {num_w_decay_to_quarks} for W->qq'.\")\n",
    "    return all_quark_pairs_vectors\n"
   ]
  },
  {
   "cell_type": "code",
   "execution_count": null,
   "id": "242ced98-d0d5-4bf0-8fb6-58b90cd94ccf",
   "metadata": {},
   "outputs": [],
   "source": [
    "w_decay_quark_pairs_gen = get_w_decay_quark_pairs_gen(events)"
   ]
  },
  {
   "cell_type": "code",
   "execution_count": null,
   "id": "fbf43ca4-27db-4343-a172-501c89242f50",
   "metadata": {},
   "outputs": [],
   "source": [
    "# This code was written by David https://github.com/wbuitrago/Scripts_HadronicVBS/blob/main/Costheta.py\n",
    "def calculate_cos_theta_star_gen(quark_pairs_vectors):\n",
    "    \"\"\"\n",
    "    Computation cos(theta*) for the list of pair of quarks.\n",
    "    theta* is the angle betweeen the quark direction (in the W rest frame) and the dirección of W (in the lab frame).\n",
    "    \"\"\"\n",
    "    cos_theta_stars = []\n",
    "\n",
    "    if not quark_pairs_vectors:\n",
    "        print(f\"[WARN] Quark pairs not loaded for computation of cos(theta*).\")\n",
    "        return np.array([])\n",
    "    print(len(quark_pairs_vectors))\n",
    "    for q_pair in quark_pairs_vectors:\n",
    "        q1 = q_pair[0] \n",
    "        q2 = q_pair[1]\n",
    "        w_lab = q1 + q2 \n",
    "        if w_lab.mass < 1e-3 or w_lab.E <= 1e-6:\n",
    "            print(\"1\")\n",
    "            continue \n",
    "\n",
    "        beta3 = w_lab.to_beta3()\n",
    "        q1_in_w_rest = q1.boost_beta3(-beta3)\n",
    "        \n",
    "        # Axis z' in the helicity frame\n",
    "        w_direction_lab_3vec = w_lab.to_beta3() \n",
    "\n",
    "        if w_direction_lab_3vec.mag < 1e-6:\n",
    "            continue \n",
    "        \n",
    "        q1_direction_w_rest_3vec = q1_in_w_rest.to_beta3()\n",
    "        \n",
    "        if q1_direction_w_rest_3vec.mag < 1e-6: \n",
    "            continue\n",
    "\n",
    "        cos_theta = q1_direction_w_rest_3vec.unit().dot(w_direction_lab_3vec.unit())\n",
    "        cos_theta_stars.append(cos_theta)\n",
    "        \n",
    "    print(f\"[INFO] Computed {len(cos_theta_stars)} values of cos(theta*).\")\n",
    "    return np.array(cos_theta_stars)"
   ]
  },
  {
   "cell_type": "code",
   "execution_count": null,
   "id": "e6dca741-bf92-4c52-94b7-bb3921c76c2e",
   "metadata": {},
   "outputs": [],
   "source": [
    "cos_theta_star_gen = calculate_cos_theta_star_gen(w_decay_quark_pairs_gen)\n",
    "print(cos_theta_star_gen)"
   ]
  },
  {
   "cell_type": "code",
   "execution_count": null,
   "id": "041431de-162a-44ff-bfe0-27b4d7289bff",
   "metadata": {},
   "outputs": [],
   "source": [
    "gen_cos_theta_star_hist = hist.Hist(hist.axis.StrCategory(name='dataset', label=\"BG\", categories=[], growth=True),\n",
    "                            hist.axis.Regular(name='gen_AK8_cos_theta_star', label='gen cos_theta_star', bins=80, start=-1, stop=1))\n",
    "gen_cos_theta_star_hist.fill(dataset=test_dataset, gen_AK8_cos_theta_star=cos_theta_star_gen)\n",
    "gen_cos_theta_star_hist.plot1d()\n"
   ]
  },
  {
   "cell_type": "code",
   "execution_count": null,
   "id": "5c47bbeb-0428-448a-8eef-64e5bf103158",
   "metadata": {},
   "outputs": [],
   "source": [
    "# Can you now try to plot the same variable for the RSgraviton?"
   ]
  },
  {
   "cell_type": "code",
   "execution_count": null,
   "id": "3713cc30-04f8-484c-8b8d-1bcb322f5397",
   "metadata": {},
   "outputs": [],
   "source": [
    "# Can you plot them on the same figure?"
   ]
  },
  {
   "cell_type": "code",
   "execution_count": null,
   "id": "be51d4ab-6f94-41c9-bb60-9810e0b9b73f",
   "metadata": {},
   "outputs": [],
   "source": [
    "# When you are happy with the result, go back to the beginning and add more files with different resonance mass"
   ]
  }
 ],
 "metadata": {
  "kernelspec": {
   "display_name": "Python 3 (ipykernel)",
   "language": "python",
   "name": "python3"
  },
  "language_info": {
   "codemirror_mode": {
    "name": "ipython",
    "version": 3
   },
   "file_extension": ".py",
   "mimetype": "text/x-python",
   "name": "python",
   "nbconvert_exporter": "python",
   "pygments_lexer": "ipython3",
   "version": "3.12.5"
  }
 },
 "nbformat": 4,
 "nbformat_minor": 5
}
