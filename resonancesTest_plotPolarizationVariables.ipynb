{
 "cells": [
  {
   "cell_type": "code",
   "execution_count": 1,
   "id": "24dc59e2-7202-46e1-b86e-700108b9d0a5",
   "metadata": {},
   "outputs": [
    {
     "name": "stderr",
     "output_type": "stream",
     "text": [
      "/usr/local/lib/python3.12/site-packages/coffea/nanoevents/schemas/fcc.py:5: FutureWarning: In version 2025.1.0 (target date: 2024-12-31 11:59:59-06:00), this will be an error.\n",
      "To raise these warnings as errors (and get stack traces to find out where they're called), run\n",
      "    import warnings\n",
      "    warnings.filterwarnings(\"error\", module=\"coffea.*\")\n",
      "after the first `import coffea` or use `@pytest.mark.filterwarnings(\"error:::coffea.*\")` in pytest.\n",
      "Issue: coffea.nanoevents.methods.vector will be removed and replaced with scikit-hep vector. Nanoevents schemas internal to coffea will be migrated. Otherwise please consider using that package!.\n",
      "  from coffea.nanoevents.methods import vector\n"
     ]
    }
   ],
   "source": [
    "import numpy as np\n",
    "import awkward as ak\n",
    "import uproot\n",
    "import matplotlib.pyplot as plt\n",
    "import hist\n",
    "import hist.dask as hda\n",
    "import dask\n",
    "import coffea.processor as processor\n",
    "from coffea.nanoevents import NanoEventsFactory, NanoAODSchema\n",
    "import vector\n",
    "\n",
    "NanoAODSchema.warn_missing_crossrefs = False"
   ]
  },
  {
   "cell_type": "code",
   "execution_count": 2,
   "id": "4aa706a3-3bb5-4b73-b6ee-84d9537b7efa",
   "metadata": {},
   "outputs": [],
   "source": [
    "# Datasets:\n",
    "#/BulkGravToWW_narrow_M-*_13TeV-madgraph/*NanoAODv7*/NANOAODSIM\n",
    "#/RSGravToWWToWlepWhad_width0p1_M-*_TuneCUETP8M1_13TeV-madgraph-pythia8/*NanoAODv3*/NANOAODSIM\n",
    "\n",
    "\n",
    "# When having a large number of files it is useful to put the list on a separate file.\n",
    "# import json\n",
    "\n",
    "# with open(\"semileptonic_notebooks/samples.json\", 'r') as sample_file:\n",
    "#     fileset = json.load(sample_file)\n",
    "\n",
    "# for sample in fileset:\n",
    "#     print(sample)\n",
    "\n",
    "# For now we are only testing on a limited number of files so they are just listed here\n",
    "fileset = {\n",
    "    'BulkGravToWW': {\n",
    "        'files': {\n",
    "            'root://cmsxrootd.fnal.gov//store/mc/RunIISummer16NanoAODv7/BulkGravToWW_narrow_M-1000_13TeV-madgraph/NANOAODSIM/PUMoriond17_Nano02Apr2020_102X_mcRun2_asymptotic_v8-v1/100000/D4404DCB-FBF8-C640-87B0-2DA1D5139083.root': \"Events\",\n",
    "        },\n",
    "        'metadata': {\n",
    "            'is_mc': 'Events',\n",
    "        },\n",
    "    },\n",
    "    'RSGravToWW': {\n",
    "        'files': {\n",
    "            'root://cmsxrootd.fnal.gov//store/mc/RunIISummer16NanoAODv3/RSGravToWWToWlepWhad_width0p1_M-1200_TuneCUETP8M1_13TeV-madgraph-pythia8/NANOAODSIM/PUMoriond17_94X_mcRun2_asymptotic_v3-v1/60000/4442437A-52BB-E811-A8DA-90E2BACC5EEC.root': \"Events\",\n",
    "          },\n",
    "        'metadata': {\n",
    "            'is_mc': 'Events',\n",
    "        },\n",
    "    }\n",
    "}"
   ]
  },
  {
   "cell_type": "code",
   "execution_count": 3,
   "id": "614be34f-2707-4b8c-96df-6ab9d7d969e0",
   "metadata": {},
   "outputs": [],
   "source": [
    "# This step takes some time because it is loading the events\n",
    "test_dataset = 'BulkGravToWW'\n",
    "events = NanoEventsFactory.from_root(\n",
    "    fileset[test_dataset]['files'],\n",
    "    entry_stop = 1000, # this limit the number of events, good to experiment more quickly\n",
    "    metadata = fileset[test_dataset]['metadata'],\n",
    "    schemaclass = NanoAODSchema,\n",
    "    delayed=False,\n",
    ").events()"
   ]
  },
  {
   "cell_type": "code",
   "execution_count": 4,
   "id": "b7e5cd7d-0168-4ff5-adf9-dfc45cda2703",
   "metadata": {},
   "outputs": [],
   "source": [
    "# This code was written by David https://github.com/wbuitrago/Scripts_HadronicVBS/blob/main/Costheta.py\n",
    "def get_w_decay_quark_pairs_gen(events):\n",
    "    \"\"\"\n",
    "    Extraction of pairs of quarks coming from a W boson at generator level\n",
    "    Gave a 'vector.Momentum4D'.\n",
    "    \"\"\"\n",
    "    if events is None or len(events) == 0:\n",
    "        return []\n",
    "        \n",
    "    pdgId = events.GenPart.pdgId\n",
    "    mothers = events.GenPart.genPartIdxMother\n",
    "    \n",
    "    all_quark_pairs_vectors = []\n",
    "\n",
    "    print(f\"[INFO] Processing events to find W -> qq'.\")\n",
    "    num_w_decay_to_quarks = 0\n",
    "    for i in range(len(events)): \n",
    "        event_pdgId = pdgId[i]\n",
    "        event_mothers = mothers[i]\n",
    "        \n",
    "        # Label of the W boson in the actual event\n",
    "        # abs(pdgId) == 24 for W+ and W-\n",
    "        w_indices_in_event = ak.local_index(event_pdgId)[abs(event_pdgId) == 24]\n",
    "\n",
    "        for w_idx in w_indices_in_event:\n",
    "            # Indexes for the quarks doughters coming from to the W (abs(pdgId) between 1 and 6)\n",
    "            daughter_indices = ak.local_index(event_pdgId)[\n",
    "                (event_mothers == w_idx) & (abs(event_pdgId) >= 1) & (abs(event_pdgId) <= 6)\n",
    "            ]\n",
    "            \n",
    "            if len(daughter_indices) == 2:\n",
    "                num_w_decay_to_quarks += 1\n",
    "                q1_data = {\n",
    "                    \"pt\": events.GenPart.pt[i][daughter_indices[0]],\n",
    "                    \"eta\": events.GenPart.eta[i][daughter_indices[0]],\n",
    "                    \"phi\": events.GenPart.phi[i][daughter_indices[0]],\n",
    "                    \"mass\": events.GenPart.mass[i][daughter_indices[0]],\n",
    "                }\n",
    "                q2_data = {\n",
    "                    \"pt\": events.GenPart.pt[i][daughter_indices[1]],\n",
    "                    \"eta\": events.GenPart.eta[i][daughter_indices[1]],\n",
    "                    \"phi\": events.GenPart.phi[i][daughter_indices[1]],\n",
    "                    \"mass\": events.GenPart.mass[i][daughter_indices[1]],\n",
    "                }\n",
    "                q1_vec = vector.obj(pt=q1_data[\"pt\"], eta=q1_data[\"eta\"], phi=q1_data[\"phi\"], mass=q1_data[\"mass\"])\n",
    "                q2_vec = vector.obj(pt=q2_data[\"pt\"], eta=q2_data[\"eta\"], phi=q2_data[\"phi\"], mass=q2_data[\"mass\"])\n",
    "                all_quark_pairs_vectors.append([q1_vec, q2_vec])\n",
    "                \n",
    "    print(f\"[INFO] Found {len(all_quark_pairs_vectors)} pairs of quarks {num_w_decay_to_quarks} for W->qq'.\")\n",
    "    return all_quark_pairs_vectors\n"
   ]
  },
  {
   "cell_type": "code",
   "execution_count": 5,
   "id": "242ced98-d0d5-4bf0-8fb6-58b90cd94ccf",
   "metadata": {},
   "outputs": [
    {
     "name": "stdout",
     "output_type": "stream",
     "text": [
      "[INFO] Processing events to find W -> qq'.\n",
      "[INFO] Found 1335 pairs of quarks 1335 for W->qq'.\n"
     ]
    }
   ],
   "source": [
    "w_decay_quark_pairs_gen = get_w_decay_quark_pairs_gen(events)"
   ]
  },
  {
   "cell_type": "code",
   "execution_count": 92,
   "id": "9a2845c3-9151-43e4-a633-d7334a0ee50b",
   "metadata": {},
   "outputs": [
    {
     "name": "stdout",
     "output_type": "stream",
     "text": [
      "<class 'list'>\n"
     ]
    }
   ],
   "source": []
  },
  {
   "cell_type": "code",
   "execution_count": 6,
   "id": "fbf43ca4-27db-4343-a172-501c89242f50",
   "metadata": {},
   "outputs": [],
   "source": [
    "# This code was written by David https://github.com/wbuitrago/Scripts_HadronicVBS/blob/main/Costheta.py\n",
    "def calculate_cos_theta_star_gen(quark_pairs_vectors):\n",
    "    \"\"\"\n",
    "    Computation cos(theta*) for the list of pair of quarks.\n",
    "    theta* is the angle betweeen the quark direction (in the W rest frame) and the dirección of W (in the lab frame).\n",
    "    \"\"\"\n",
    "    cos_theta_stars = []\n",
    "\n",
    "    if not quark_pairs_vectors:\n",
    "        print(f\"[WARN] Quark pairs not loaded for computation of cos(theta*).\")\n",
    "        return np.array([])\n",
    "    print(len(quark_pairs_vectors))\n",
    "    for q_pair in quark_pairs_vectors:\n",
    "        q1 = q_pair[0] \n",
    "        q2 = q_pair[1]\n",
    "        w_lab = q1 + q2 \n",
    "        if w_lab.mass < 1e-3 or w_lab.E <= 1e-6:\n",
    "            print(\"1\")\n",
    "            continue \n",
    "\n",
    "        beta3 = w_lab.to_beta3()\n",
    "        q1_in_w_rest = q1.boost_beta3(-beta3)\n",
    "        \n",
    "        # Axis z' in the helicity frame\n",
    "        w_direction_lab_3vec = w_lab.to_beta3() \n",
    "\n",
    "        if w_direction_lab_3vec.mag < 1e-6:\n",
    "            continue \n",
    "        \n",
    "        q1_direction_w_rest_3vec = q1_in_w_rest.to_beta3()\n",
    "        \n",
    "        if q1_direction_w_rest_3vec.mag < 1e-6: \n",
    "            continue\n",
    "\n",
    "        cos_theta = q1_direction_w_rest_3vec.unit().dot(w_direction_lab_3vec.unit())\n",
    "        cos_theta_stars.append(cos_theta)\n",
    "        \n",
    "    print(f\"[INFO] Computed {len(cos_theta_stars)} values of cos(theta*).\")\n",
    "    return np.array(cos_theta_stars)"
   ]
  },
  {
   "cell_type": "code",
   "execution_count": 7,
   "id": "e6dca741-bf92-4c52-94b7-bb3921c76c2e",
   "metadata": {},
   "outputs": [
    {
     "name": "stdout",
     "output_type": "stream",
     "text": [
      "1335\n",
      "[INFO] Computed 1335 values of cos(theta*).\n",
      "[-0.68291903 -0.23322115  0.22334667 ... -0.34365172  0.73052278\n",
      "  0.51133234]\n"
     ]
    }
   ],
   "source": [
    "cos_theta_star_gen = calculate_cos_theta_star_gen(w_decay_quark_pairs_gen)\n",
    "print(cos_theta_star_gen)"
   ]
  },
  {
   "cell_type": "code",
   "execution_count": 8,
   "id": "041431de-162a-44ff-bfe0-27b4d7289bff",
   "metadata": {},
   "outputs": [
    {
     "data": {
      "text/plain": [
       "[StairsArtists(stairs=<matplotlib.patches.StepPatch object at 0x7f9f34d2c4a0>, errorbar=<ErrorbarContainer object of 3 artists>, legend_artist=<ErrorbarContainer object of 3 artists>)]"
      ]
     },
     "execution_count": 8,
     "metadata": {},
     "output_type": "execute_result"
    },
    {
     "data": {
      "image/png": "[encoded data removed]",
      "text/plain": [
       "<Figure size 640x480 with 1 Axes>"
      ]
     },
     "metadata": {},
     "output_type": "display_data"
    }
   ],
   "source": [
    "gen_cos_theta_star_hist = hist.Hist(hist.axis.StrCategory(name='dataset', label=\"BG\", categories=[], growth=True),\n",
    "                            hist.axis.Regular(name='gen_AK8_cos_theta_star', label='gen cos_theta_star', bins=80, start=-1, stop=1))\n",
    "gen_cos_theta_star_hist.fill(dataset=test_dataset, gen_AK8_cos_theta_star=cos_theta_star_gen)\n",
    "gen_cos_theta_star_hist.plot1d()\n"
   ]
  },
  {
   "cell_type": "code",
   "execution_count": 9,
   "id": "5c47bbeb-0428-448a-8eef-64e5bf103158",
   "metadata": {},
   "outputs": [],
   "source": [
    "# Can you now try to plot the same variable for the RSgraviton?"
   ]
  },
  {
   "cell_type": "code",
   "execution_count": 10,
   "id": "3713cc30-04f8-484c-8b8d-1bcb322f5397",
   "metadata": {},
   "outputs": [],
   "source": [
    "# Can you plot them on the same figure?"
   ]
  },
  {
   "cell_type": "code",
   "execution_count": 11,
   "id": "be51d4ab-6f94-41c9-bb60-9810e0b9b73f",
   "metadata": {},
   "outputs": [],
   "source": [
    "# When you are happy with the result, go back to the beginning and add more files with different resonance mass"
   ]
  },
  {
   "cell_type": "code",
   "execution_count": 18,
   "id": "06cf3428-beaa-44b5-9496-adaa48b2ea37",
   "metadata": {},
   "outputs": [],
   "source": [
    "def get_w_quark_pairs(events):\n",
    "    pdgId = events.GenPart.pdgId\n",
    "    mothers = events.GenPart.genPartIdxMother\n",
    "\n",
    "    is_w = abs(pdgId) == 24\n",
    "    is_quark = (abs(pdgId) <= 6) # Quarks u,d,s,c,b,t\n",
    "\n",
    "    w_indices = ak.local_index(pdgId)[is_w]\n",
    "    quark_indices = ak.local_index(pdgId)[is_quark]\n",
    "    quark_parents = mothers[is_quark]\n",
    "\n",
    "    w_quark_map = {} # (event_index, w_boson_index_in_event) -> [quark1_index_in_event, quark2_index_in_event]\n",
    "\n",
    "    for evt_idx in range(len(pdgId)):\n",
    "        # W's in the specific event\n",
    "        event_w_indices = w_indices[evt_idx]\n",
    "        # Quarks in the event\n",
    "        event_quark_indices = quark_indices[evt_idx]\n",
    "        event_quark_parents = quark_parents[evt_idx]\n",
    "        \n",
    "        for w_idx_in_event in event_w_indices:\n",
    "            # Find quarks coming from W's Parent \n",
    "            daughter_quarks_indices_in_event = event_quark_indices[event_quark_parents == w_idx_in_event]\n",
    "            if len(daughter_quarks_indices_in_event) == 2:\n",
    "                w_quark_map[(evt_idx, w_idx_in_event)] = daughter_quarks_indices_in_event\n",
    "    return w_quark_map"
   ]
  },
  {
   "cell_type": "code",
   "execution_count": 104,
   "id": "770e6a6d-e5da-413e-90b4-575002a20716",
   "metadata": {},
   "outputs": [],
   "source": [
    "# Matching GenJetAK8 and FatJet with the quark pairs coming from the W decay\n",
    "def match_w_to_fatjets(events, w_quark_map):\n",
    "     # Prepare containers for each event (same length as events)\n",
    "    matched_fatjets_per_event = [[] for _ in range(len(events))]\n",
    "\n",
    "    genjets = ak.zip({\n",
    "        \"pt\": events.GenJetAK8.pt, \"eta\": events.GenJetAK8.eta,\n",
    "        \"phi\": events.GenJetAK8.phi, \"mass\": events.GenJetAK8.mass\n",
    "    }, with_name=\"Momentum4D\")\n",
    "\n",
    "    fatjets = ak.zip({\n",
    "        \"pt\": events.FatJet.pt, \"eta\": events.FatJet.eta,\n",
    "        \"phi\": events.FatJet.phi, \"mass\": events.FatJet.mass,\n",
    "        \"msoftdrop\": events.FatJet.msoftdrop,\n",
    "        \"tau1\": events.FatJet.tau1, \"tau2\": events.FatJet.tau2,\n",
    "        \"genJetIdx\": events.FatJet.genJetAK8Idx,\n",
    "        \"subJetIdx1\": events.FatJet.subJetIdx1,\n",
    "        \"subJetIdx2\": events.FatJet.subJetIdx2\n",
    "    })\n",
    "\n",
    "    genparts = ak.zip({\n",
    "        \"pt\": events.GenPart.pt, \"eta\": events.GenPart.eta,\n",
    "        \"phi\": events.GenPart.phi, \"mass\": events.GenPart.mass\n",
    "    }, with_name=\"Momentum4D\")\n",
    "\n",
    "    for (evt_idx, w_gen_idx), quark_gen_indices in w_quark_map.items():\n",
    "        q1_gen_idx = quark_gen_indices[0]\n",
    "        q2_gen_idx = quark_gen_indices[1]\n",
    "\n",
    "        # Building quarks 4-vector \n",
    "        q1 = genparts[evt_idx][q1_gen_idx]\n",
    "        q2 = genparts[evt_idx][q2_gen_idx]\n",
    "        \n",
    "        # Iteration in GenJetAK8 in the event - evt_idx\n",
    "        for gj_local_idx, gj in enumerate(genjets[evt_idx]):\n",
    "            if gj.deltaR(q1) < 0.8 and gj.deltaR(q2) < 0.8:\n",
    "                \n",
    "                # Mask for the FatJets in the actual event that is matching with gj_local_idx\n",
    "                matching_fj_mask = (events.FatJet.genJetAK8Idx[evt_idx] == gj_local_idx)\n",
    "                matched_fjs = events.FatJet[evt_idx][matching_fj_mask]\n",
    "                \n",
    "                \n",
    "                if len(matched_fjs) > 0:\n",
    "                    matched_fatjets_per_event[evt_idx].append(matched_fjs[0])\n",
    "                    break\n",
    "\n",
    "    # Convert list-of-lists of records back into ak.Array\n",
    "    return ak.Array(matched_fatjets_per_event)"
   ]
  },
  {
   "cell_type": "code",
   "execution_count": 112,
   "id": "2db5faa5-3814-4544-9a2b-3393037ea697",
   "metadata": {},
   "outputs": [
    {
     "name": "stdout",
     "output_type": "stream",
     "text": [
      "<class 'list'>\n",
      "<class 'awkward.highlevel.Array'>\n",
      "['area', 'btagCMVA', 'btagCSVV2', 'btagDDBvL', 'btagDDBvL_noMD', 'btagDDCvB', 'btagDDCvB_noMD', 'btagDDCvL', 'btagDDCvL_noMD', 'btagDeepB', 'btagHbb', 'deepTagMD_H4qvsQCD', 'deepTagMD_HbbvsQCD', 'deepTagMD_TvsQCD', 'deepTagMD_WvsQCD', 'deepTagMD_ZHbbvsQCD', 'deepTagMD_ZHccvsQCD', 'deepTagMD_ZbbvsQCD', 'deepTagMD_ZvsQCD', 'deepTagMD_bbvsLight', 'deepTagMD_ccvsLight', 'deepTag_H', 'deepTag_QCD', 'deepTag_QCDothers', 'deepTag_TvsQCD', 'deepTag_WvsQCD', 'deepTag_ZvsQCD', 'eta', 'mass', 'msoftdrop', 'n2b1', 'n3b1', 'phi', 'pt', 'rawFactor', 'tau1', 'tau2', 'tau3', 'tau4', 'lsf3', 'jetId', 'subJetIdx1', 'subJetIdx2', 'electronIdx3SJ', 'muonIdx3SJ', 'genJetAK8Idx', 'hadronFlavour', 'nBHadrons', 'nCHadrons', 'genJetAK8IdxG', 'subJetIdx1G', 'subJetIdx2G', 'subJetIdxG']\n",
      "<class 'awkward.highlevel.Array'>\n",
      "1000 * var * float64\n",
      "[[], [105], [], [92.6, 107], [87.2]]\n",
      "[105, 92.6, 107, 87.2]\n"
     ]
    },
    {
     "data": {
      "text/plain": [
       "[StairsArtists(stairs=<matplotlib.patches.StepPatch object at 0x7f9f0781b380>, errorbar=<ErrorbarContainer object of 3 artists>, legend_artist=<ErrorbarContainer object of 3 artists>)]"
      ]
     },
     "execution_count": 112,
     "metadata": {},
     "output_type": "execute_result"
    },
    {
     "data": {
      "image/png": "[encoded data removed]",
      "text/plain": [
       "<Figure size 640x480 with 1 Axes>"
      ]
     },
     "metadata": {},
     "output_type": "display_data"
    }
   ],
   "source": [
    "gen_W = events.GenPart[abs(events.GenPart.pdgId)==24]\n",
    "gen_W_single = gen_W[:, 0] # first of the two Ws\n",
    "\n",
    "w_quark_map = get_w_quark_pairs(events)\n",
    "jet_W = match_w_to_fatjets(events, w_quark_map)\n",
    "print(type(jet_W))\n",
    "print(ak.type(jet_W.mass))\n",
    "print(jet_W.mass[:5])# Print first 5 entries\n",
    "print(ak.flatten(jet_W.mass[:5]))\n",
    "gen_W_mass_hist = hist.Hist(hist.axis.StrCategory(name='dataset', label=\"GenPart\", categories=[], growth=True),\n",
    "                            hist.axis.Regular(name='gen_W_mass', label='gen_W_mass', bins=80, start=0, stop=200))\n",
    "gen_W_mass_hist.fill(dataset=test_dataset, gen_W_mass=gen_W_single.mass)\n",
    "gen_W_mass_hist.plot1d(label=\"GenW\")\n",
    "jet_W_mass_hist = hist.Hist(hist.axis.StrCategory(name='dataset', label=\"MatchedJet\", categories=[], growth=True),\n",
    "                            hist.axis.Regular(name='jet_W_mass', label='jet_W_mass', bins=80, start=0, stop=200))\n",
    "jet_W_mass_hist.fill(dataset=test_dataset, jet_W_mass=ak.flatten(jet_W.mass))\n",
    "jet_W_mass_hist.plot1d(label=\"MatchedJet\")\n",
    "\n",
    "fatjet_mass_hist = hist.Hist(hist.axis.StrCategory(name='dataset', label=\"FatJet\", categories=[], growth=True),\n",
    "                            hist.axis.Regular(name='jet_W_mass', label='jet_W_mass', bins=80, start=0, stop=200))\n",
    "fatjet_mass_hist.fill(dataset=test_dataset, jet_W_mass=ak.flatten(events.FatJet.mass))\n",
    "fatjet_mass_hist.plot1d(label=\"FatJet\")\n",
    "\n"
   ]
  },
  {
   "cell_type": "code",
   "execution_count": 20,
   "id": "f43d6466-d5be-47b6-8956-37bac34e9491",
   "metadata": {},
   "outputs": [],
   "source": []
  },
  {
   "cell_type": "code",
   "execution_count": 78,
   "id": "23457733-4d6d-4bc5-ab55-01d9dc965582",
   "metadata": {},
   "outputs": [
    {
     "name": "stdout",
     "output_type": "stream",
     "text": [
      "<class 'list'>\n",
      "<class 'awkward.highlevel.Array'>\n",
      "['area', 'btagCMVA', 'btagCSVV2', 'btagDDBvL', 'btagDDBvL_noMD', 'btagDDCvB', 'btagDDCvB_noMD', 'btagDDCvL', 'btagDDCvL_noMD', 'btagDeepB', 'btagHbb', 'deepTagMD_H4qvsQCD', 'deepTagMD_HbbvsQCD', 'deepTagMD_TvsQCD', 'deepTagMD_WvsQCD', 'deepTagMD_ZHbbvsQCD', 'deepTagMD_ZHccvsQCD', 'deepTagMD_ZbbvsQCD', 'deepTagMD_ZvsQCD', 'deepTagMD_bbvsLight', 'deepTagMD_ccvsLight', 'deepTag_H', 'deepTag_QCD', 'deepTag_QCDothers', 'deepTag_TvsQCD', 'deepTag_WvsQCD', 'deepTag_ZvsQCD', 'eta', 'mass', 'msoftdrop', 'n2b1', 'n3b1', 'phi', 'pt', 'rawFactor', 'tau1', 'tau2', 'tau3', 'tau4', 'lsf3', 'jetId', 'subJetIdx1', 'subJetIdx2', 'electronIdx3SJ', 'muonIdx3SJ', 'genJetAK8Idx', 'hadronFlavour', 'nBHadrons', 'nCHadrons', 'genJetAK8IdxG', 'subJetIdx1G', 'subJetIdx2G', 'subJetIdxG']\n"
     ]
    }
   ],
   "source": []
  },
  {
   "cell_type": "code",
   "execution_count": null,
   "id": "a2fefeca-a734-426b-9e87-3c0d2cc7729c",
   "metadata": {},
   "outputs": [],
   "source": []
  },
  {
   "cell_type": "code",
   "execution_count": null,
   "id": "824c0a93-2de0-4fea-924f-de2e8fe6fcdd",
   "metadata": {},
   "outputs": [],
   "source": []
  },
  {
   "cell_type": "code",
   "execution_count": null,
   "id": "31342213-4ffb-4f99-89a5-e94c3d681dda",
   "metadata": {},
   "outputs": [],
   "source": []
  },
  {
   "cell_type": "code",
   "execution_count": 79,
   "id": "0074dfa0-cbeb-4353-85d6-8903411f5a23",
   "metadata": {},
   "outputs": [
    {
     "name": "stdout",
     "output_type": "stream",
     "text": [
      "1000\n",
      "1000\n"
     ]
    },
    {
     "ename": "IndexError",
     "evalue": "cannot slice RegularArray (of length 1) with [[], [0], [], [2, 0], [0], [0], ..., [0, ...], [0], [0, 2], [], [0, 2], [2, 0]]: cannot fit jagged slice with length 1000 into RegularArray of size 1",
     "output_type": "error",
     "traceback": [
      "\u001b[0;31m---------------------------------------------------------------------------\u001b[0m",
      "\u001b[0;31mIndexError\u001b[0m                                Traceback (most recent call last)",
      "Cell \u001b[0;32mIn[79], line 3\u001b[0m\n\u001b[1;32m      1\u001b[0m \u001b[38;5;28mprint\u001b[39m(\u001b[38;5;28mlen\u001b[39m(jets_pairs_vectors))\n\u001b[0;32m----> 3\u001b[0m costheta_jets \u001b[38;5;241m=\u001b[39m \u001b[43mcalculate_cos_theta_star\u001b[49m\u001b[43m(\u001b[49m\u001b[43mjets_pairs_vectors\u001b[49m\u001b[43m,\u001b[49m\u001b[43m \u001b[49m\u001b[43mmask\u001b[49m\u001b[43m)\u001b[49m\n",
      "Cell \u001b[0;32mIn[75], line 16\u001b[0m, in \u001b[0;36mcalculate_cos_theta_star\u001b[0;34m(matched_fjs_in_event, matching_fj_mask)\u001b[0m\n\u001b[1;32m     13\u001b[0m sj2_idx \u001b[38;5;241m=\u001b[39m jets_pairs_vectors\u001b[38;5;241m.\u001b[39msubJetIdx2\n\u001b[1;32m     15\u001b[0m \u001b[38;5;66;03m# Use these to get the actual subjets\u001b[39;00m\n\u001b[0;32m---> 16\u001b[0m q1 \u001b[38;5;241m=\u001b[39m \u001b[43mevents\u001b[49m\u001b[38;5;241;43m.\u001b[39;49m\u001b[43mSubJet\u001b[49m\u001b[43m[\u001b[49m\u001b[43mmatching_fj_mask\u001b[49m\u001b[43m]\u001b[49m\u001b[43m[\u001b[49m\u001b[43msj1_idx\u001b[49m\u001b[43m]\u001b[49m\n\u001b[1;32m     17\u001b[0m q2 \u001b[38;5;241m=\u001b[39m events\u001b[38;5;241m.\u001b[39mSubJet[matching_fj_mask][sj2_idx]\n\u001b[1;32m     18\u001b[0m w_lab \u001b[38;5;241m=\u001b[39m q1 \u001b[38;5;241m+\u001b[39m q2 \n",
      "File \u001b[0;32m/usr/local/lib/python3.12/site-packages/awkward/highlevel.py:1105\u001b[0m, in \u001b[0;36mArray.__getitem__\u001b[0;34m(self, where)\u001b[0m\n\u001b[1;32m    676\u001b[0m \u001b[38;5;28;01mdef\u001b[39;00m\u001b[38;5;250m \u001b[39m\u001b[38;5;21m__getitem__\u001b[39m(\u001b[38;5;28mself\u001b[39m, where):\n\u001b[1;32m    677\u001b[0m \u001b[38;5;250m    \u001b[39m\u001b[38;5;124;03m\"\"\"\u001b[39;00m\n\u001b[1;32m    678\u001b[0m \u001b[38;5;124;03m    Args:\u001b[39;00m\n\u001b[1;32m    679\u001b[0m \u001b[38;5;124;03m        where (many types supported; see below): Index of positions to\u001b[39;00m\n\u001b[0;32m   (...)\u001b[0m\n\u001b[1;32m   1103\u001b[0m \u001b[38;5;124;03m    have the same dimension as the array being indexed.\u001b[39;00m\n\u001b[1;32m   1104\u001b[0m \u001b[38;5;124;03m    \"\"\"\u001b[39;00m\n\u001b[0;32m-> 1105\u001b[0m \u001b[43m    \u001b[49m\u001b[38;5;28;43;01mwith\u001b[39;49;00m\u001b[43m \u001b[49m\u001b[43mak\u001b[49m\u001b[38;5;241;43m.\u001b[39;49m\u001b[43m_errors\u001b[49m\u001b[38;5;241;43m.\u001b[39;49m\u001b[43mSlicingErrorContext\u001b[49m\u001b[43m(\u001b[49m\u001b[38;5;28;43mself\u001b[39;49m\u001b[43m,\u001b[49m\u001b[43m \u001b[49m\u001b[43mwhere\u001b[49m\u001b[43m)\u001b[49m\u001b[43m:\u001b[49m\n\u001b[1;32m   1106\u001b[0m \u001b[43m        \u001b[49m\u001b[38;5;66;43;03m# Handle named axis\u001b[39;49;00m\n\u001b[1;32m   1107\u001b[0m \u001b[43m        \u001b[49m\u001b[43m(\u001b[49m\u001b[43m_\u001b[49m\u001b[43m,\u001b[49m\u001b[43m \u001b[49m\u001b[43mndim\u001b[49m\u001b[43m)\u001b[49m\u001b[43m \u001b[49m\u001b[38;5;241;43m=\u001b[39;49m\u001b[43m \u001b[49m\u001b[38;5;28;43mself\u001b[39;49m\u001b[38;5;241;43m.\u001b[39;49m\u001b[43m_layout\u001b[49m\u001b[38;5;241;43m.\u001b[39;49m\u001b[43mminmax_depth\u001b[49m\n\u001b[1;32m   1108\u001b[0m \u001b[43m        \u001b[49m\u001b[43mnamed_axis\u001b[49m\u001b[43m \u001b[49m\u001b[38;5;241;43m=\u001b[39;49m\u001b[43m \u001b[49m\u001b[43m_get_named_axis\u001b[49m\u001b[43m(\u001b[49m\u001b[38;5;28;43mself\u001b[39;49m\u001b[43m)\u001b[49m\n",
      "File \u001b[0;32m/usr/local/lib/python3.12/site-packages/awkward/_errors.py:80\u001b[0m, in \u001b[0;36mErrorContext.__exit__\u001b[0;34m(self, exception_type, exception_value, traceback)\u001b[0m\n\u001b[1;32m     78\u001b[0m     \u001b[38;5;28mself\u001b[39m\u001b[38;5;241m.\u001b[39m_slate\u001b[38;5;241m.\u001b[39m\u001b[38;5;18m__dict__\u001b[39m\u001b[38;5;241m.\u001b[39mclear()\n\u001b[1;32m     79\u001b[0m     \u001b[38;5;66;03m# Handle caught exception\u001b[39;00m\n\u001b[0;32m---> 80\u001b[0m     \u001b[38;5;28;01mraise\u001b[39;00m \u001b[38;5;28mself\u001b[39m\u001b[38;5;241m.\u001b[39mdecorate_exception(exception_type, exception_value)\n\u001b[1;32m     81\u001b[0m \u001b[38;5;28;01melse\u001b[39;00m:\n\u001b[1;32m     82\u001b[0m     \u001b[38;5;66;03m# Step out of the way so that another ErrorContext can become primary.\u001b[39;00m\n\u001b[1;32m     83\u001b[0m     \u001b[38;5;28;01mif\u001b[39;00m \u001b[38;5;28mself\u001b[39m\u001b[38;5;241m.\u001b[39mprimary() \u001b[38;5;129;01mis\u001b[39;00m \u001b[38;5;28mself\u001b[39m:\n",
      "File \u001b[0;32m/usr/local/lib/python3.12/site-packages/awkward/highlevel.py:1113\u001b[0m, in \u001b[0;36mArray.__getitem__\u001b[0;34m(self, where)\u001b[0m\n\u001b[1;32m   1109\u001b[0m where \u001b[38;5;241m=\u001b[39m _normalize_named_slice(named_axis, where, ndim)\n\u001b[1;32m   1111\u001b[0m NamedAxis\u001b[38;5;241m.\u001b[39mmapping \u001b[38;5;241m=\u001b[39m named_axis\n\u001b[0;32m-> 1113\u001b[0m indexed_layout \u001b[38;5;241m=\u001b[39m prepare_layout(\u001b[38;5;28;43mself\u001b[39;49m\u001b[38;5;241;43m.\u001b[39;49m\u001b[43m_layout\u001b[49m\u001b[38;5;241;43m.\u001b[39;49m\u001b[43m_getitem\u001b[49m\u001b[43m(\u001b[49m\u001b[43mwhere\u001b[49m\u001b[43m,\u001b[49m\u001b[43m \u001b[49m\u001b[43mNamedAxis\u001b[49m\u001b[43m)\u001b[49m)\n\u001b[1;32m   1115\u001b[0m \u001b[38;5;28;01mif\u001b[39;00m NamedAxis\u001b[38;5;241m.\u001b[39mmapping:\n\u001b[1;32m   1116\u001b[0m     \u001b[38;5;28;01mreturn\u001b[39;00m ak\u001b[38;5;241m.\u001b[39moperations\u001b[38;5;241m.\u001b[39mak_with_named_axis\u001b[38;5;241m.\u001b[39m_impl(\n\u001b[1;32m   1117\u001b[0m         indexed_layout,\n\u001b[1;32m   1118\u001b[0m         named_axis\u001b[38;5;241m=\u001b[39mNamedAxis\u001b[38;5;241m.\u001b[39mmapping,\n\u001b[0;32m   (...)\u001b[0m\n\u001b[1;32m   1121\u001b[0m         attrs\u001b[38;5;241m=\u001b[39m\u001b[38;5;28mself\u001b[39m\u001b[38;5;241m.\u001b[39m_attrs,\n\u001b[1;32m   1122\u001b[0m     )\n",
      "File \u001b[0;32m/usr/local/lib/python3.12/site-packages/awkward/contents/content.py:657\u001b[0m, in \u001b[0;36mContent._getitem\u001b[0;34m(self, where, named_axis)\u001b[0m\n\u001b[1;32m    654\u001b[0m         \u001b[38;5;28;01mreturn\u001b[39;00m out\u001b[38;5;241m.\u001b[39m_getitem_at(\u001b[38;5;241m0\u001b[39m)\n\u001b[1;32m    656\u001b[0m \u001b[38;5;28;01melif\u001b[39;00m \u001b[38;5;28misinstance\u001b[39m(where, ak\u001b[38;5;241m.\u001b[39mhighlevel\u001b[38;5;241m.\u001b[39mArray):\n\u001b[0;32m--> 657\u001b[0m     \u001b[38;5;28;01mreturn\u001b[39;00m \u001b[38;5;28;43mself\u001b[39;49m\u001b[38;5;241;43m.\u001b[39;49m\u001b[43m_getitem\u001b[49m\u001b[43m(\u001b[49m\u001b[43mwhere\u001b[49m\u001b[38;5;241;43m.\u001b[39;49m\u001b[43mlayout\u001b[49m\u001b[43m,\u001b[49m\u001b[43m \u001b[49m\u001b[43mnamed_axis\u001b[49m\u001b[43m)\u001b[49m\n\u001b[1;32m    659\u001b[0m \u001b[38;5;66;03m# Convert between nplikes of different backends\u001b[39;00m\n\u001b[1;32m    660\u001b[0m \u001b[38;5;28;01melif\u001b[39;00m (\n\u001b[1;32m    661\u001b[0m     \u001b[38;5;28misinstance\u001b[39m(where, ak\u001b[38;5;241m.\u001b[39mcontents\u001b[38;5;241m.\u001b[39mContent)\n\u001b[1;32m    662\u001b[0m     \u001b[38;5;129;01mand\u001b[39;00m where\u001b[38;5;241m.\u001b[39mbackend \u001b[38;5;129;01mis\u001b[39;00m \u001b[38;5;129;01mnot\u001b[39;00m \u001b[38;5;28mself\u001b[39m\u001b[38;5;241m.\u001b[39m_backend\n\u001b[1;32m    663\u001b[0m ):\n",
      "File \u001b[0;32m/usr/local/lib/python3.12/site-packages/awkward/contents/content.py:734\u001b[0m, in \u001b[0;36mContent._getitem\u001b[0;34m(self, where, named_axis)\u001b[0m\n\u001b[1;32m    731\u001b[0m     \u001b[38;5;28;01mreturn\u001b[39;00m where\u001b[38;5;241m.\u001b[39mto_NumpyArray(np\u001b[38;5;241m.\u001b[39mint64)\n\u001b[1;32m    733\u001b[0m \u001b[38;5;28;01melif\u001b[39;00m \u001b[38;5;28misinstance\u001b[39m(where, Content):\n\u001b[0;32m--> 734\u001b[0m     \u001b[38;5;28;01mreturn\u001b[39;00m \u001b[38;5;28;43mself\u001b[39;49m\u001b[38;5;241;43m.\u001b[39;49m\u001b[43m_getitem\u001b[49m\u001b[43m(\u001b[49m\u001b[43m(\u001b[49m\u001b[43mwhere\u001b[49m\u001b[43m,\u001b[49m\u001b[43m)\u001b[49m\u001b[43m,\u001b[49m\u001b[43m \u001b[49m\u001b[43mnamed_axis\u001b[49m\u001b[43m)\u001b[49m\n\u001b[1;32m    736\u001b[0m \u001b[38;5;28;01melif\u001b[39;00m is_sized_iterable(where):\n\u001b[1;32m    737\u001b[0m     \u001b[38;5;66;03m# Do we have an array\u001b[39;00m\n\u001b[1;32m    738\u001b[0m     nplike \u001b[38;5;241m=\u001b[39m nplike_of_obj(where, default\u001b[38;5;241m=\u001b[39m\u001b[38;5;28;01mNone\u001b[39;00m)\n",
      "File \u001b[0;32m/usr/local/lib/python3.12/site-packages/awkward/contents/content.py:649\u001b[0m, in \u001b[0;36mContent._getitem\u001b[0;34m(self, where, named_axis)\u001b[0m\n\u001b[1;32m    640\u001b[0m named_axis\u001b[38;5;241m.\u001b[39mmapping \u001b[38;5;241m=\u001b[39m _named_axis\n\u001b[1;32m    642\u001b[0m \u001b[38;5;28mnext\u001b[39m \u001b[38;5;241m=\u001b[39m ak\u001b[38;5;241m.\u001b[39mcontents\u001b[38;5;241m.\u001b[39mRegularArray(\n\u001b[1;32m    643\u001b[0m     this,\n\u001b[1;32m    644\u001b[0m     this\u001b[38;5;241m.\u001b[39mlength,\n\u001b[1;32m    645\u001b[0m     \u001b[38;5;241m1\u001b[39m,\n\u001b[1;32m    646\u001b[0m     parameters\u001b[38;5;241m=\u001b[39m\u001b[38;5;28;01mNone\u001b[39;00m,\n\u001b[1;32m    647\u001b[0m )\n\u001b[0;32m--> 649\u001b[0m out \u001b[38;5;241m=\u001b[39m \u001b[38;5;28;43mnext\u001b[39;49m\u001b[38;5;241;43m.\u001b[39;49m\u001b[43m_getitem_next\u001b[49m\u001b[43m(\u001b[49m\u001b[43mnextwhere\u001b[49m\u001b[43m[\u001b[49m\u001b[38;5;241;43m0\u001b[39;49m\u001b[43m]\u001b[49m\u001b[43m,\u001b[49m\u001b[43m \u001b[49m\u001b[43mnextwhere\u001b[49m\u001b[43m[\u001b[49m\u001b[38;5;241;43m1\u001b[39;49m\u001b[43m:\u001b[49m\u001b[43m]\u001b[49m\u001b[43m,\u001b[49m\u001b[43m \u001b[49m\u001b[38;5;28;43;01mNone\u001b[39;49;00m\u001b[43m)\u001b[49m\n\u001b[1;32m    651\u001b[0m \u001b[38;5;28;01mif\u001b[39;00m out\u001b[38;5;241m.\u001b[39mlength \u001b[38;5;129;01mis\u001b[39;00m \u001b[38;5;129;01mnot\u001b[39;00m unknown_length \u001b[38;5;129;01mand\u001b[39;00m out\u001b[38;5;241m.\u001b[39mlength \u001b[38;5;241m==\u001b[39m \u001b[38;5;241m0\u001b[39m:\n\u001b[1;32m    652\u001b[0m     \u001b[38;5;28;01mreturn\u001b[39;00m out\u001b[38;5;241m.\u001b[39m_getitem_nothing()\n",
      "File \u001b[0;32m/usr/local/lib/python3.12/site-packages/awkward/contents/regulararray.py:677\u001b[0m, in \u001b[0;36mRegularArray._getitem_next\u001b[0;34m(self, head, tail, advanced)\u001b[0m\n\u001b[1;32m    670\u001b[0m     \u001b[38;5;28;01mraise\u001b[39;00m ak\u001b[38;5;241m.\u001b[39m_errors\u001b[38;5;241m.\u001b[39mindex_error(\n\u001b[1;32m    671\u001b[0m         \u001b[38;5;28mself\u001b[39m,\n\u001b[1;32m    672\u001b[0m         head,\n\u001b[1;32m    673\u001b[0m         \u001b[38;5;124m\"\u001b[39m\u001b[38;5;124mcannot mix jagged slice with NumPy-style advanced indexing\u001b[39m\u001b[38;5;124m\"\u001b[39m,\n\u001b[1;32m    674\u001b[0m     )\n\u001b[1;32m    676\u001b[0m \u001b[38;5;28;01mif\u001b[39;00m \u001b[38;5;28mself\u001b[39m\u001b[38;5;241m.\u001b[39m_backend\u001b[38;5;241m.\u001b[39mnplike\u001b[38;5;241m.\u001b[39mknown_data \u001b[38;5;129;01mand\u001b[39;00m head\u001b[38;5;241m.\u001b[39mlength \u001b[38;5;241m!=\u001b[39m \u001b[38;5;28mself\u001b[39m\u001b[38;5;241m.\u001b[39m_size:\n\u001b[0;32m--> 677\u001b[0m     \u001b[38;5;28;01mraise\u001b[39;00m ak\u001b[38;5;241m.\u001b[39m_errors\u001b[38;5;241m.\u001b[39mindex_error(\n\u001b[1;32m    678\u001b[0m         \u001b[38;5;28mself\u001b[39m,\n\u001b[1;32m    679\u001b[0m         head,\n\u001b[1;32m    680\u001b[0m         \u001b[38;5;124mf\u001b[39m\u001b[38;5;124m\"\u001b[39m\u001b[38;5;124mcannot fit jagged slice with length \u001b[39m\u001b[38;5;132;01m{\u001b[39;00mhead\u001b[38;5;241m.\u001b[39mlength\u001b[38;5;132;01m}\u001b[39;00m\u001b[38;5;124m into \u001b[39m\u001b[38;5;132;01m{\u001b[39;00m\u001b[38;5;28mtype\u001b[39m(\u001b[38;5;28mself\u001b[39m)\u001b[38;5;241m.\u001b[39m\u001b[38;5;18m__name__\u001b[39m\u001b[38;5;132;01m}\u001b[39;00m\u001b[38;5;124m of size \u001b[39m\u001b[38;5;132;01m{\u001b[39;00m\u001b[38;5;28mself\u001b[39m\u001b[38;5;241m.\u001b[39m_size\u001b[38;5;132;01m}\u001b[39;00m\u001b[38;5;124m\"\u001b[39m,\n\u001b[1;32m    681\u001b[0m     )\n\u001b[1;32m    683\u001b[0m multistarts \u001b[38;5;241m=\u001b[39m ak\u001b[38;5;241m.\u001b[39mindex\u001b[38;5;241m.\u001b[39mIndex64\u001b[38;5;241m.\u001b[39mempty(\n\u001b[1;32m    684\u001b[0m     head\u001b[38;5;241m.\u001b[39mlength \u001b[38;5;241m*\u001b[39m \u001b[38;5;28mself\u001b[39m\u001b[38;5;241m.\u001b[39m_length, index_nplike\n\u001b[1;32m    685\u001b[0m )\n\u001b[1;32m    686\u001b[0m multistops \u001b[38;5;241m=\u001b[39m ak\u001b[38;5;241m.\u001b[39mindex\u001b[38;5;241m.\u001b[39mIndex64\u001b[38;5;241m.\u001b[39mempty(\n\u001b[1;32m    687\u001b[0m     head\u001b[38;5;241m.\u001b[39mlength \u001b[38;5;241m*\u001b[39m \u001b[38;5;28mself\u001b[39m\u001b[38;5;241m.\u001b[39m_length, index_nplike\n\u001b[1;32m    688\u001b[0m )\n",
      "\u001b[0;31mIndexError\u001b[0m: cannot slice RegularArray (of length 1) with [[], [0], [], [2, 0], [0], [0], ..., [0, ...], [0], [0, 2], [], [0, 2], [2, 0]]: cannot fit jagged slice with length 1000 into RegularArray of size 1",
      "\u001b[0m\nThis error occurred while attempting to slice\n\n    <PtEtaPhiMCollectionArray [[{btagCMVA: -0.899, ...}, ...]] type='1 * va...'>\n\nwith\n\n    <Array [[], [0], [], [...], ..., [], [0, 2], [2, 0]] type='1000 * var * int64'>"
     ]
    }
   ],
   "source": []
  },
  {
   "cell_type": "code",
   "execution_count": null,
   "id": "3867ee45-b799-4740-89b5-55237ffb5e91",
   "metadata": {},
   "outputs": [],
   "source": []
  }
 ],
 "metadata": {
  "kernelspec": {
   "display_name": "Python 3 (ipykernel)",
   "language": "python",
   "name": "python3"
  },
  "language_info": {
   "codemirror_mode": {
    "name": "ipython",
    "version": 3
   },
   "file_extension": ".py",
   "mimetype": "text/x-python",
   "name": "python",
   "nbconvert_exporter": "python",
   "pygments_lexer": "ipython3",
   "version": "3.12.5"
  }
 },
 "nbformat": 4,
 "nbformat_minor": 5
}
