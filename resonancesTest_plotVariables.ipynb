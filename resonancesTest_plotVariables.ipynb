{
 "cells": [
  {
   "cell_type": "code",
   "execution_count": null,
   "id": "24dc59e2-7202-46e1-b86e-700108b9d0a5",
   "metadata": {},
   "outputs": [],
   "source": [
    "import numpy as np\n",
    "import awkward as ak\n",
    "import uproot\n",
    "import matplotlib.pyplot as plt\n",
    "import hist\n",
    "import hist.dask as hda\n",
    "import dask\n",
    "import coffea.processor as processor\n",
    "from coffea.nanoevents import NanoEventsFactory, NanoAODSchema\n",
    "import vector\n",
    "\n",
    "NanoAODSchema.warn_missing_crossrefs = False\n",
    "\n",
    "# IGNORE THE WARNING "
   ]
  },
  {
   "cell_type": "code",
   "execution_count": null,
   "id": "4aa706a3-3bb5-4b73-b6ee-84d9537b7efa",
   "metadata": {},
   "outputs": [],
   "source": [
    "# Datasets:\n",
    "#/BulkGravToWW_narrow_M-*_13TeV-madgraph/*NanoAODv7*/NANOAODSIM\n",
    "#/RSGravToWWToWlepWhad_width0p1_M-*_TuneCUETP8M1_13TeV-madgraph-pythia8/*NanoAODv3*/NANOAODSIM\n",
    "\n",
    "\n",
    "# When having a large number of files it is useful to put the list on a separate file.\n",
    "# import json\n",
    "\n",
    "# with open(\"semileptonic_notebooks/samples.json\", 'r') as sample_file:\n",
    "#     fileset = json.load(sample_file)\n",
    "\n",
    "# for sample in fileset:\n",
    "#     print(sample)\n",
    "\n",
    "# For now we are only testing on a limited number of files so they are just listed here\n",
    "fileset = {\n",
    "    'BulkGravToWW': {\n",
    "        'files': {\n",
    "            'root://cmsxrootd.fnal.gov//store/mc/RunIISummer16NanoAODv7/BulkGravToWW_narrow_M-1000_13TeV-madgraph/NANOAODSIM/PUMoriond17_Nano02Apr2020_102X_mcRun2_asymptotic_v8-v1/100000/D4404DCB-FBF8-C640-87B0-2DA1D5139083.root': \"Events\",\n",
    "        },\n",
    "        'metadata': {\n",
    "            'is_mc': 'Events',\n",
    "        },\n",
    "    },\n",
    "    'RSGravToWW': {\n",
    "        'files': {\n",
    "            'root://cmsxrootd.fnal.gov//store/mc/RunIISummer16NanoAODv3/RSGravToWWToWlepWhad_width0p1_M-1200_TuneCUETP8M1_13TeV-madgraph-pythia8/NANOAODSIM/PUMoriond17_94X_mcRun2_asymptotic_v3-v1/60000/4442437A-52BB-E811-A8DA-90E2BACC5EEC.root': \"Events\",\n",
    "          },\n",
    "        'metadata': {\n",
    "            'is_mc': 'Events',\n",
    "        },\n",
    "    }\n",
    "}"
   ]
  },
  {
   "cell_type": "code",
   "execution_count": null,
   "id": "614be34f-2707-4b8c-96df-6ab9d7d969e0",
   "metadata": {},
   "outputs": [],
   "source": [
    "# This step takes some time because it is loading the events\n",
    "test_dataset = 'BulkGravToWW'\n",
    "events = NanoEventsFactory.from_root(\n",
    "    fileset[test_dataset]['files'],\n",
    "    entry_stop = 1000, # this limit the number of events, good to experiment more quickly\n",
    "    metadata = fileset[test_dataset]['metadata'],\n",
    "    schemaclass = NanoAODSchema,\n",
    "    delayed=False,\n",
    ").events()"
   ]
  },
  {
   "cell_type": "code",
   "execution_count": null,
   "id": "4d1ed1da-0621-4a4c-9e96-9b0d8b398bd5",
   "metadata": {},
   "outputs": [],
   "source": [
    "print(Lets get familiar with what is insiede an event of a NanoAOD file:)\n",
    "events.fields\n",
    "\n",
    "\n",
    "print(Now we want to learn about the particles in our events)\n",
    "\n",
    "print(type(events.GenPart))\n",
    "print(events.GenPart.fields)"
   ]
  },
  {
   "cell_type": "markdown",
   "id": "b2b08c92-22b7-4300-bbea-fc0a37b98494",
   "metadata": {},
   "source": [
    "### TASK 1: \n",
    "Understand the meaning of the GenPart fields that you should have printed. Some are more easy then others. For now you should make sure you understand 'eta', 'mass', 'phi', 'pt', 'genPartIdxMother', 'pdgId'"
   ]
  },
  {
   "cell_type": "markdown",
   "id": "808d015e-e465-42ac-b86c-7ae77c2e65d9",
   "metadata": {},
   "source": [
    "### TASK 2: \n",
    "Can you select the W bosons? Can you print the value of the W boson mass? And plot?\n"
   ]
  },
  {
   "cell_type": "code",
   "execution_count": null,
   "id": "0960c009-6353-4973-8f16-85d2903fdf60",
   "metadata": {},
   "outputs": [],
   "source": [
    "# Implement here your code"
   ]
  },
  {
   "cell_type": "markdown",
   "id": "31823651-650e-465f-a845-835566bb9693",
   "metadata": {},
   "source": [
    "### TASK 3:\n",
    "\n",
    "Plot also the other kinematic variables"
   ]
  },
  {
   "cell_type": "code",
   "execution_count": null,
   "id": "80ce8dee-c303-4304-a3c7-5af5366de160",
   "metadata": {},
   "outputs": [],
   "source": [
    "# Implement here your code"
   ]
  },
  {
   "cell_type": "markdown",
   "id": "da005e3a-fdba-45f7-97e9-cde5d9d442ee",
   "metadata": {},
   "source": [
    "### TASK 4: \n",
    "Now identify the quarks coming from the W bosons and plot their kinematic variables\n"
   ]
  },
  {
   "cell_type": "code",
   "execution_count": null,
   "id": "63c10025-3faf-4b8b-abb7-d1b3828893e8",
   "metadata": {},
   "outputs": [],
   "source": [
    "# Implement here your code \n",
    "# This starts to get more complicated! Take your time to think!"
   ]
  },
  {
   "cell_type": "markdown",
   "id": "66df4f95-50d7-4eca-a75e-92fbb074936f",
   "metadata": {},
   "source": [
    "#### Bonus task:\n",
    "\n",
    "Are there many quarks not coming from the Ws? Would your answer be different if you would be using Vector Boson Scattering samples? Remind me about it at some point and we may give it a go :)"
   ]
  },
  {
   "cell_type": "markdown",
   "id": "d086b147-a4fe-4fad-89f5-7dd6e3fd35d2",
   "metadata": {},
   "source": [
    "## Polarization variable cos theta\n",
    "\n",
    "To calculate this variable we are putting together some of the things you have been working on before. Two functions have already been implemented for you. Read them below and try to understand what they do. Add all printouts that you need. Also printing the type of the variables is useful. Or running on a small number of events to explore them in depth."
   ]
  },
  {
   "cell_type": "code",
   "execution_count": null,
   "id": "b7e5cd7d-0168-4ff5-adf9-dfc45cda2703",
   "metadata": {},
   "outputs": [],
   "source": [
    "# This code was written by David https://github.com/wbuitrago/Scripts_HadronicVBS/blob/main/Costheta.py\n",
    "def get_w_decay_quark_pairs_gen(events):\n",
    "    \"\"\"\n",
    "    Extraction of pairs of quarks coming from a W boson at generator level\n",
    "    Gave a 'vector.Momentum4D'.\n",
    "    \"\"\"\n",
    "    if events is None or len(events) == 0:\n",
    "        return []\n",
    "        \n",
    "    pdgId = events.GenPart.pdgId\n",
    "    mothers = events.GenPart.genPartIdxMother\n",
    "    \n",
    "    all_quark_pairs_vectors = []\n",
    "\n",
    "    print(f\"[INFO] Processing events to find W -> qq'.\")\n",
    "    num_w_decay_to_quarks = 0\n",
    "    for i in range(len(events)): \n",
    "        event_pdgId = pdgId[i]\n",
    "        event_mothers = mothers[i]\n",
    "        \n",
    "        # Label of the W boson in the actual event\n",
    "        # abs(pdgId) == 24 for W+ and W-\n",
    "        w_indices_in_event = ak.local_index(event_pdgId)[abs(event_pdgId) == 24]\n",
    "\n",
    "        for w_idx in w_indices_in_event:\n",
    "            # Indexes for the quarks doughters coming from to the W (abs(pdgId) between 1 and 6)\n",
    "            daughter_indices = ak.local_index(event_pdgId)[\n",
    "                (event_mothers == w_idx) & (abs(event_pdgId) >= 1) & (abs(event_pdgId) <= 6)\n",
    "            ]\n",
    "            \n",
    "            if len(daughter_indices) == 2:\n",
    "                num_w_decay_to_quarks += 1\n",
    "                q1_data = {\n",
    "                    \"pt\": events.GenPart.pt[i][daughter_indices[0]],\n",
    "                    \"eta\": events.GenPart.eta[i][daughter_indices[0]],\n",
    "                    \"phi\": events.GenPart.phi[i][daughter_indices[0]],\n",
    "                    \"mass\": events.GenPart.mass[i][daughter_indices[0]],\n",
    "                }\n",
    "                q2_data = {\n",
    "                    \"pt\": events.GenPart.pt[i][daughter_indices[1]],\n",
    "                    \"eta\": events.GenPart.eta[i][daughter_indices[1]],\n",
    "                    \"phi\": events.GenPart.phi[i][daughter_indices[1]],\n",
    "                    \"mass\": events.GenPart.mass[i][daughter_indices[1]],\n",
    "                }\n",
    "                q1_vec = vector.obj(pt=q1_data[\"pt\"], eta=q1_data[\"eta\"], phi=q1_data[\"phi\"], mass=q1_data[\"mass\"])\n",
    "                q2_vec = vector.obj(pt=q2_data[\"pt\"], eta=q2_data[\"eta\"], phi=q2_data[\"phi\"], mass=q2_data[\"mass\"])\n",
    "                all_quark_pairs_vectors.append([q1_vec, q2_vec])\n",
    "                \n",
    "    print(f\"[INFO] Found {len(all_quark_pairs_vectors)} pairs of quarks {num_w_decay_to_quarks} for W->qq'.\")\n",
    "    return all_quark_pairs_vectors\n"
   ]
  },
  {
   "cell_type": "code",
   "execution_count": null,
   "id": "242ced98-d0d5-4bf0-8fb6-58b90cd94ccf",
   "metadata": {},
   "outputs": [],
   "source": [
    "w_decay_quark_pairs_gen = get_w_decay_quark_pairs_gen(events)"
   ]
  },
  {
   "cell_type": "code",
   "execution_count": null,
   "id": "fbf43ca4-27db-4343-a172-501c89242f50",
   "metadata": {},
   "outputs": [],
   "source": [
    "# This code was written by David https://github.com/wbuitrago/Scripts_HadronicVBS/blob/main/Costheta.py\n",
    "def calculate_cos_theta_star_gen(quark_pairs_vectors):\n",
    "    \"\"\"\n",
    "    Computation cos(theta*) for the list of pair of quarks.\n",
    "    theta* is the angle betweeen the quark direction (in the W rest frame) and the dirección of W (in the lab frame).\n",
    "    \"\"\"\n",
    "    cos_theta_stars = []\n",
    "\n",
    "    if not quark_pairs_vectors:\n",
    "        print(f\"[WARN] Quark pairs not loaded for computation of cos(theta*).\")\n",
    "        return np.array([])\n",
    "    print(len(quark_pairs_vectors))\n",
    "    for q_pair in quark_pairs_vectors:\n",
    "        q1 = q_pair[0] \n",
    "        q2 = q_pair[1]\n",
    "        w_lab = q1 + q2 \n",
    "        if w_lab.mass < 1e-3 or w_lab.E <= 1e-6:\n",
    "            print(\"1\")\n",
    "            continue \n",
    "\n",
    "        beta3 = w_lab.to_beta3()\n",
    "        q1_in_w_rest = q1.boost_beta3(-beta3)\n",
    "        \n",
    "        # Axis z' in the helicity frame\n",
    "        w_direction_lab_3vec = w_lab.to_beta3() \n",
    "\n",
    "        if w_direction_lab_3vec.mag < 1e-6:\n",
    "            continue \n",
    "        \n",
    "        q1_direction_w_rest_3vec = q1_in_w_rest.to_beta3()\n",
    "        \n",
    "        if q1_direction_w_rest_3vec.mag < 1e-6: \n",
    "            continue\n",
    "\n",
    "        cos_theta = q1_direction_w_rest_3vec.unit().dot(w_direction_lab_3vec.unit())\n",
    "        cos_theta_stars.append(cos_theta)\n",
    "        \n",
    "    print(f\"[INFO] Computed {len(cos_theta_stars)} values of cos(theta*).\")\n",
    "    return np.array(cos_theta_stars)"
   ]
  },
  {
   "cell_type": "code",
   "execution_count": null,
   "id": "e6dca741-bf92-4c52-94b7-bb3921c76c2e",
   "metadata": {},
   "outputs": [],
   "source": [
    "cos_theta_star_gen = calculate_cos_theta_star_gen(w_decay_quark_pairs_gen)\n",
    "print(cos_theta_star_gen)"
   ]
  },
  {
   "cell_type": "code",
   "execution_count": null,
   "id": "041431de-162a-44ff-bfe0-27b4d7289bff",
   "metadata": {},
   "outputs": [],
   "source": [
    "gen_cos_theta_star_hist = hist.Hist(hist.axis.StrCategory(name='dataset', label=\"BG\", categories=[], growth=True),\n",
    "                            hist.axis.Regular(name='gen_AK8_cos_theta_star', label='gen cos_theta_star', bins=80, start=-1, stop=1))\n",
    "gen_cos_theta_star_hist.fill(dataset=test_dataset, gen_AK8_cos_theta_star=cos_theta_star_gen)\n",
    "gen_cos_theta_star_hist.plot1d()\n"
   ]
  },
  {
   "cell_type": "markdown",
   "id": "10311089-204a-432d-8c58-746911ac16c5",
   "metadata": {},
   "source": [
    "### TASK 5:\n",
    "\n",
    "Can you plot the same variable also for the RSGraviton?"
   ]
  },
  {
   "cell_type": "markdown",
   "id": "93651e68-5c38-46ff-8cfe-71d99c670ed8",
   "metadata": {},
   "source": [
    "### TASK 6:\n",
    "Can you plot them on the same figure?"
   ]
  },
  {
   "cell_type": "markdown",
   "id": "a8c06c01-91a9-4cb8-8ce9-8721455eddcb",
   "metadata": {},
   "source": [
    "### TASK 7: \n",
    "\n",
    "When you are happy with the result, go back to the beginning and add more files with different resonance mass (Let me know when you are here! Not sure it is easy for you to get the list of files!!)"
   ]
  },
  {
   "cell_type": "markdown",
   "id": "2c07d631-e11a-429f-92c7-be07e1d51c93",
   "metadata": {},
   "source": [
    "## What we see in our detectors is not the generated particles but it is convolved with their interactions with the detectors or more deacys. For instance Jets instead if Quarks.\n",
    "\n",
    "Below are two functions implemented for you that match the generated particles with the jets in the event. Read them and try to understand what they do. Add all printouts that you need. Also printing the type of the variables is useful. Or running on a small number of events to explore them in depth."
   ]
  },
  {
   "cell_type": "code",
   "execution_count": null,
   "id": "06cf3428-beaa-44b5-9496-adaa48b2ea37",
   "metadata": {},
   "outputs": [],
   "source": [
    "# This code was written by David https://github.com/wbuitrago/Scripts_HadronicVBS/blob/main/Costheta.py\n",
    "def get_w_quark_pairs(events):\n",
    "    pdgId = events.GenPart.pdgId\n",
    "    mothers = events.GenPart.genPartIdxMother\n",
    "\n",
    "    is_w = abs(pdgId) == 24\n",
    "    is_quark = (abs(pdgId) <= 6) # Quarks u,d,s,c,b,t\n",
    "\n",
    "    w_indices = ak.local_index(pdgId)[is_w]\n",
    "    quark_indices = ak.local_index(pdgId)[is_quark]\n",
    "    quark_parents = mothers[is_quark]\n",
    "\n",
    "    w_quark_map = {} # (event_index, w_boson_index_in_event) -> [quark1_index_in_event, quark2_index_in_event]\n",
    "\n",
    "    for evt_idx in range(len(pdgId)):\n",
    "        # W's in the specific event\n",
    "        event_w_indices = w_indices[evt_idx]\n",
    "        # Quarks in the event\n",
    "        event_quark_indices = quark_indices[evt_idx]\n",
    "        event_quark_parents = quark_parents[evt_idx]\n",
    "        \n",
    "        for w_idx_in_event in event_w_indices:\n",
    "            # Find quarks coming from W's Parent \n",
    "            daughter_quarks_indices_in_event = event_quark_indices[event_quark_parents == w_idx_in_event]\n",
    "            if len(daughter_quarks_indices_in_event) == 2:\n",
    "                w_quark_map[(evt_idx, w_idx_in_event)] = daughter_quarks_indices_in_event\n",
    "    return w_quark_map"
   ]
  },
  {
   "cell_type": "code",
   "execution_count": null,
   "id": "770e6a6d-e5da-413e-90b4-575002a20716",
   "metadata": {},
   "outputs": [],
   "source": [
    "# This code was written by David https://github.com/wbuitrago/Scripts_HadronicVBS/blob/main/Costheta.py\n",
    "# Matching GenJetAK8 and FatJet with the quark pairs coming from the W decay\n",
    "def match_w_to_fatjets(events, w_quark_map):\n",
    "     # Prepare containers for each event (same length as events)\n",
    "    matched_fatjets_per_event = [[] for _ in range(len(events))]\n",
    "\n",
    "    genjets = ak.zip({\n",
    "        \"pt\": events.GenJetAK8.pt, \"eta\": events.GenJetAK8.eta,\n",
    "        \"phi\": events.GenJetAK8.phi, \"mass\": events.GenJetAK8.mass\n",
    "    }, with_name=\"Momentum4D\")\n",
    "\n",
    "    fatjets = ak.zip({\n",
    "        \"pt\": events.FatJet.pt, \"eta\": events.FatJet.eta,\n",
    "        \"phi\": events.FatJet.phi, \"mass\": events.FatJet.mass,\n",
    "        \"msoftdrop\": events.FatJet.msoftdrop,\n",
    "        \"tau1\": events.FatJet.tau1, \"tau2\": events.FatJet.tau2,\n",
    "        \"genJetIdx\": events.FatJet.genJetAK8Idx,\n",
    "        \"subJetIdx1\": events.FatJet.subJetIdx1,\n",
    "        \"subJetIdx2\": events.FatJet.subJetIdx2\n",
    "    })\n",
    "\n",
    "    genparts = ak.zip({\n",
    "        \"pt\": events.GenPart.pt, \"eta\": events.GenPart.eta,\n",
    "        \"phi\": events.GenPart.phi, \"mass\": events.GenPart.mass\n",
    "    }, with_name=\"Momentum4D\")\n",
    "\n",
    "    for (evt_idx, w_gen_idx), quark_gen_indices in w_quark_map.items():\n",
    "        q1_gen_idx = quark_gen_indices[0]\n",
    "        q2_gen_idx = quark_gen_indices[1]\n",
    "\n",
    "        # Building quarks 4-vector \n",
    "        q1 = genparts[evt_idx][q1_gen_idx]\n",
    "        q2 = genparts[evt_idx][q2_gen_idx]\n",
    "        \n",
    "        # Iteration in GenJetAK8 in the event - evt_idx\n",
    "        for gj_local_idx, gj in enumerate(genjets[evt_idx]):\n",
    "            if gj.deltaR(q1) < 0.8 and gj.deltaR(q2) < 0.8:\n",
    "                \n",
    "                # Mask for the FatJets in the actual event that is matching with gj_local_idx\n",
    "                matching_fj_mask = (events.FatJet.genJetAK8Idx[evt_idx] == gj_local_idx)\n",
    "                matched_fjs = events.FatJet[evt_idx][matching_fj_mask]\n",
    "                \n",
    "                \n",
    "                if len(matched_fjs) > 0:\n",
    "                    matched_fatjets_per_event[evt_idx].append(matched_fjs[0])\n",
    "                    break\n",
    "\n",
    "    # Convert list-of-lists of records back into ak.Array\n",
    "    return ak.Array(matched_fatjets_per_event)"
   ]
  },
  {
   "cell_type": "markdown",
   "id": "a97d038e-bd3d-467d-88e4-da2efbca32b0",
   "metadata": {},
   "source": [
    "### TASK 8:\n",
    "\n",
    "Plot on the same plot\n",
    "1) the mass of the generated Ws\n",
    "2) the mass of the FatJets\n",
    "3) the mass of the FatJets coming from a W\n",
    "\n",
    "Do you understand the plot?\n",
    "\n",
    "#### Tip: you can run on only one file or with very few events when debugging your code"
   ]
  },
  {
   "cell_type": "markdown",
   "id": "fa8a88e3-50c6-43a5-b87f-60dcf9a6c3bf",
   "metadata": {},
   "source": [
    "### TASK 9:\n",
    "\n",
    "For the FatJets (or the FatJets coming from a W) let's plot also some variables that are commonly used to distinguish Jets coming from a W (or Z boson from the background). Remind me to give you some material to learn about jet tagging when you get here!\n",
    "1. Compare the mass and the soft drop mass ( `msoftdrop`)\n",
    "2. Plot also the N-subjettines variables `tau1`, `tau2` and their ratio"
   ]
  },
  {
   "cell_type": "markdown",
   "id": "535b6897-1dd7-40cf-824b-0a06d2f304f8",
   "metadata": {},
   "source": [
    "### TASK 10:\n",
    "\n",
    "Identify the subjets of the FatJets coming from the W and plot their kinematic variables"
   ]
  },
  {
   "cell_type": "markdown",
   "id": "4928bf60-12ea-4963-9fa6-5062fd7db8cc",
   "metadata": {},
   "source": [
    "### TASK 11:\n",
    "\n",
    "Can you calculate cos theta for the jets and subjets instead of the gen particles? This may be tricky!! Take your time!"
   ]
  }
 ],
 "metadata": {
  "kernelspec": {
   "display_name": "Python 3 (ipykernel)",
   "language": "python",
   "name": "python3"
  },
  "language_info": {
   "codemirror_mode": {
    "name": "ipython",
    "version": 3
   },
   "file_extension": ".py",
   "mimetype": "text/x-python",
   "name": "python",
   "nbconvert_exporter": "python",
   "pygments_lexer": "ipython3",
   "version": "3.12.5"
  }
 },
 "nbformat": 4,
 "nbformat_minor": 5
}
