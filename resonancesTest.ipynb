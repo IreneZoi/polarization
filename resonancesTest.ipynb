{
 "cells": [
  {
   "cell_type": "code",
   "execution_count": 2,
   "id": "24dc59e2-7202-46e1-b86e-700108b9d0a5",
   "metadata": {},
   "outputs": [
    {
     "name": "stderr",
     "output_type": "stream",
     "text": [
      "/usr/local/lib/python3.12/site-packages/coffea/nanoevents/schemas/fcc.py:5: FutureWarning: In version 2025.1.0 (target date: 2024-12-31 11:59:59-06:00), this will be an error.\n",
      "To raise these warnings as errors (and get stack traces to find out where they're called), run\n",
      "    import warnings\n",
      "    warnings.filterwarnings(\"error\", module=\"coffea.*\")\n",
      "after the first `import coffea` or use `@pytest.mark.filterwarnings(\"error:::coffea.*\")` in pytest.\n",
      "Issue: coffea.nanoevents.methods.vector will be removed and replaced with scikit-hep vector. Nanoevents schemas internal to coffea will be migrated. Otherwise please consider using that package!.\n",
      "  from coffea.nanoevents.methods import vector\n"
     ]
    }
   ],
   "source": [
    "import numpy as np\n",
    "import awkward as ak\n",
    "import uproot\n",
    "import matplotlib.pyplot as plt\n",
    "import hist\n",
    "import hist.dask as hda\n",
    "import dask\n",
    "import coffea.processor as processor\n",
    "from coffea.nanoevents import NanoEventsFactory, NanoAODSchema\n",
    "\n",
    "NanoAODSchema.warn_missing_crossrefs = False"
   ]
  },
  {
   "cell_type": "code",
   "execution_count": 3,
   "id": "359be554-7a47-4ecc-abe2-338ab658db8b",
   "metadata": {},
   "outputs": [
    {
     "data": {
      "text/plain": [
       "['.ipynb_checkpoints',\n",
       " 'samples.json',\n",
       " 'fully_leptonic_test.ipynb',\n",
       " '.git',\n",
       " 'resonancesTest.ipynb',\n",
       " 'semileptonic_test.ipynb',\n",
       " 'leading_W_jet_pt.h5',\n",
       " 'semileptonic_notebooks.tar.gz']"
      ]
     },
     "execution_count": 3,
     "metadata": {},
     "output_type": "execute_result"
    }
   ],
   "source": [
    "import os\n",
    "os.listdir('.')"
   ]
  },
  {
   "cell_type": "code",
   "execution_count": 43,
   "id": "4aa706a3-3bb5-4b73-b6ee-84d9537b7efa",
   "metadata": {},
   "outputs": [],
   "source": [
    "# import json\n",
    "\n",
    "# with open(\"semileptonic_notebooks/samples.json\", 'r') as sample_file:\n",
    "#     fileset = json.load(sample_file)\n",
    "\n",
    "# for sample in fileset:\n",
    "#     print(sample)\n",
    "\n",
    "fileset = {\n",
    "    'BulkGravToWW_1000': {\n",
    "        'files': {\n",
    "            'root://cmsxrootd.fnal.gov//store/mc/RunIISummer16NanoAODv7/BulkGravToWW_narrow_M-1000_13TeV-madgraph/NANOAODSIM/PUMoriond17_Nano02Apr2020_102X_mcRun2_asymptotic_v8-v1/100000/D4404DCB-FBF8-C640-87B0-2DA1D5139083.root': \"Events\",\n",
    "        },\n",
    "        'metadata': {\n",
    "            'is_mc': 'Events',\n",
    "        },\n",
    "    },\n",
    "    'RadionToWW_1000': {\n",
    "        'files': {\n",
    "            'root://cmsxrootd.fnal.gov//store/mc/RunIISummer16NanoAODv7/RadionToWW_narrow_M-1000_13TeV-madgraph/NANOAODSIM/PUMoriond17_Nano02Apr2020_102X_mcRun2_asymptotic_v8-v1/120000/B53216D7-B5CA-A347-A49A-5B055C71FB93.root': \"Events\",\n",
    "        },\n",
    "        'metadata': {\n",
    "            'is_mc': 'Events',\n",
    "        },\n",
    "    }\n",
    "}"
   ]
  },
  {
   "cell_type": "code",
   "execution_count": 74,
   "id": "614be34f-2707-4b8c-96df-6ab9d7d969e0",
   "metadata": {},
   "outputs": [],
   "source": [
    "test_dataset = 'RadionToWW_1000'\n",
    "events = NanoEventsFactory.from_root(\n",
    "    fileset[test_dataset]['files'],\n",
    "    entry_stop = 10000,\n",
    "    metadata = fileset[test_dataset]['metadata'],\n",
    "    schemaclass = NanoAODSchema,\n",
    "    delayed=False,\n",
    ").events()"
   ]
  },
  {
   "cell_type": "code",
   "execution_count": 75,
   "id": "9ef6d729-ea31-4d9d-bb12-bbf3d963d217",
   "metadata": {},
   "outputs": [
    {
     "data": {
      "text/plain": [
       "['GenMET',\n",
       " 'FatJet',\n",
       " 'LHEReweightingWeight',\n",
       " 'L1simulation',\n",
       " 'btagWeight',\n",
       " 'GenIsolatedPhoton',\n",
       " 'HTXS',\n",
       " 'luminosityBlock',\n",
       " 'PSWeight',\n",
       " 'LHEScaleWeight',\n",
       " 'Jet',\n",
       " 'SoftActivityJetNjets2',\n",
       " 'genTtbarId',\n",
       " 'SoftActivityJetNjets10',\n",
       " 'GenJet',\n",
       " 'GenDressedLepton',\n",
       " 'event',\n",
       " 'SoftActivityJetHT',\n",
       " 'PV',\n",
       " 'Photon',\n",
       " 'fixedGridRhoFastjetCentralNeutral',\n",
       " 'SoftActivityJetHT10',\n",
       " 'SoftActivityJet',\n",
       " 'CorrT1METJet',\n",
       " 'LHEPart',\n",
       " 'HLTriggerFirstPath',\n",
       " 'HLT',\n",
       " 'SV',\n",
       " 'RawPuppiMET',\n",
       " 'SoftActivityJetNjets5',\n",
       " 'fixedGridRhoFastjetCentralChargedPileUp',\n",
       " 'LHE',\n",
       " 'GenJetAK8',\n",
       " 'FsrPhoton',\n",
       " 'fixedGridRhoFastjetCentral',\n",
       " 'run',\n",
       " 'SubJet',\n",
       " 'Muon',\n",
       " 'PuppiMET',\n",
       " 'CaloMET',\n",
       " 'HLTriggerFinalPath',\n",
       " 'L1',\n",
       " 'Generator',\n",
       " 'TkMET',\n",
       " 'SoftActivityJetHT5',\n",
       " 'LHEPdfWeight',\n",
       " 'RawMET',\n",
       " 'Pileup',\n",
       " 'L1PreFiringWeight',\n",
       " 'SubGenJetAK8',\n",
       " 'IsoTrack',\n",
       " 'fixedGridRhoFastjetCentralCalo',\n",
       " 'GenVisTau',\n",
       " 'ChsMET',\n",
       " 'LHEWeight',\n",
       " 'OtherPV',\n",
       " 'GenPart',\n",
       " 'SoftActivityJetHT2',\n",
       " 'fixedGridRhoFastjetAll',\n",
       " 'Flag',\n",
       " 'MET',\n",
       " 'Electron',\n",
       " 'TrigObj',\n",
       " 'Tau',\n",
       " 'genWeight']"
      ]
     },
     "execution_count": 75,
     "metadata": {},
     "output_type": "execute_result"
    }
   ],
   "source": [
    "events.fields"
   ]
  },
  {
   "cell_type": "code",
   "execution_count": 7,
   "id": "af6250d3-c52e-49a9-9d78-e58a28da185c",
   "metadata": {},
   "outputs": [],
   "source": [
    "# Samples from 2018...\n",
    "\n",
    "muons = events.Muon\n",
    "electrons = events.Electron\n",
    "\n",
    "# Exactly one tightly identified electron or muon\n",
    "electron_pt_threshold = 35\n",
    "muon_pt_threshold = 30\n",
    "pt_miss_threshold = 30\n",
    "\n",
    "# Muon TightHWW selection\n",
    "muons_tightHWW = muons[\n",
    "    (muons.pt > 10) &\n",
    "    (np.abs(muons.eta) < 2.4) &\n",
    "    (muons.tightId) &\n",
    "    (\n",
    "        ((muons.pt < 20) & (np.abs(muons.dxy) < 0.01)) |\n",
    "        ((muons.pt >= 20) & (np.abs(muons.dxy) < 0.02))\n",
    "    ) &\n",
    "    (np.abs(muons.dz) < 0.1) &\n",
    "    # particle flow isolated: tight or greater\n",
    "    (muons.pfIsoId >= 4)\n",
    "]"
   ]
  },
  {
   "cell_type": "code",
   "execution_count": null,
   "id": "c40b968b-a628-4c7c-bb8f-19faab8cf053",
   "metadata": {},
   "outputs": [],
   "source": [
    "loose_muons = muons[muons.looseId]\n",
    "loose_muon_count = ak.num(loose_muons[loose_muons.pt > 10])\n",
    "\n",
    "loose_electrons = electrons[(electrons.cutBased >= 2)]\n",
    "loose_electron_count = ak.num(loose_electrons[loose_electrons.pt > 10])\n",
    "\n",
    "# Mask for vetoing extra loose leptons\n",
    "loose_lepton_veto_mask = (loose_muon_count + loose_electron_count) == 1"
   ]
  },
  {
   "cell_type": "code",
   "execution_count": null,
   "id": "240a1d88-7e4c-45fd-a9db-3ad9a6d8da1c",
   "metadata": {},
   "outputs": [],
   "source": []
  },
  {
   "cell_type": "code",
   "execution_count": null,
   "id": "dad9b106-8cb1-468d-b624-bdf6ffa56701",
   "metadata": {},
   "outputs": [],
   "source": []
  },
  {
   "cell_type": "code",
   "execution_count": null,
   "id": "d009a432-0734-43ec-8810-db21b902995e",
   "metadata": {},
   "outputs": [],
   "source": []
  },
  {
   "cell_type": "code",
   "execution_count": null,
   "id": "7fa8cbb5-6648-4472-b99d-9e35edd8e9aa",
   "metadata": {},
   "outputs": [],
   "source": []
  },
  {
   "cell_type": "code",
   "execution_count": 76,
   "id": "40ac0a1b-3614-4ae6-ae7e-ec95f6648fb4",
   "metadata": {},
   "outputs": [],
   "source": [
    "\n",
    "clean_fatJets = events.FatJet[(events.FatJet.pt > 200) & (np.abs(events.FatJet.eta) < 2.4)]\n",
    "\n"
   ]
  },
  {
   "cell_type": "code",
   "execution_count": 77,
   "id": "93ecb973-474b-4b5a-a427-ce4191a63689",
   "metadata": {},
   "outputs": [],
   "source": [
    "#Jets cuts\n",
    "clean_Jets = events.Jet[(events.Jet.pt > 30) & (np.abs(events.Jet.eta) < 4.7)]\n",
    "\n",
    "#Removing AK4(Jet) jets overlapping with AK8(FatJets) jets\n",
    "# Get all combinations of jets and fatjets in every event\n",
    "jets_fatjets = ak.cartesian({\"x\": clean_Jets, \"y\": clean_fatJets})\n",
    "# Check that jets satisfy the isolation\n",
    "jets_iso_f = ((jets_fatjets[\"x\"].eta-jets_fatjets[\"y\"].eta)**2+(jets_fatjets[\"x\"].phi-jets_fatjets[\"y\"].phi)**2>0.8**2)\n",
    "# Mask the jets_fatjets with the jets_iso_f to get jets isolated from fatjets\n",
    "jets_fatjets = jets_fatjets[jets_iso_f]\n",
    "# Separate pairs into jets and fatjets, redefining the jets (but not the fatjets)\n",
    "jets, fj = ak.unzip(jets_fatjets)"
   ]
  },
  {
   "cell_type": "code",
   "execution_count": 78,
   "id": "020bce62-eec1-4301-836f-ba657c4b1b1f",
   "metadata": {},
   "outputs": [
    {
     "data": {
      "text/plain": [
       "[StairsArtists(stairs=<matplotlib.patches.StepPatch object at 0x7f80174ce1e0>, errorbar=<ErrorbarContainer object of 3 artists>, legend_artist=<ErrorbarContainer object of 3 artists>)]"
      ]
     },
     "execution_count": 78,
     "metadata": {},
     "output_type": "execute_result"
    },
    {
     "data": {
      "image/png": "[encoded data removed]",
      "text/plain": [
       "<Figure size 640x480 with 1 Axes>"
      ]
     },
     "metadata": {},
     "output_type": "display_data"
    }
   ],
   "source": [
    "AK8jets_candidates_mask = ak.num(clean_fatJets) >= 1\n",
    "\n",
    "Wjets_candidates = clean_fatJets[AK8jets_candidates_mask]\n",
    "leading_W_jet = Wjets_candidates[:, 0]\n",
    "leading_W_jet_pt = leading_W_jet.pt\n",
    "\n",
    "leading_W_pt_hist = hist.Hist(hist.axis.StrCategory(name='dataset', label=\"Dataset\", categories=[], growth=True),\n",
    "                            hist.axis.Regular(name='leading_AK8_pt', label='Leading AK8 p_T (GeV)', bins=80, start=0, stop=4000))\n",
    "leading_W_pt_hist.fill(dataset=test_dataset, leading_AK8_pt=leading_W_jet_pt)\n",
    "leading_W_pt_hist.plot1d()"
   ]
  },
  {
   "cell_type": "code",
   "execution_count": 59,
   "id": "e07d7be4-ddf7-49db-a949-4e9fa84206c7",
   "metadata": {},
   "outputs": [],
   "source": [
    "# basic h5 creation\n",
    "import pandas as pd\n",
    "# Convert awkward array to numpy array (flat)\n",
    "leading_W_jet_pt_np = ak.to_numpy(leading_W_jet_pt)\n",
    "leading_W_jet_eta_np = ak.to_numpy(leading_W_jet.eta)\n",
    "# Optional — wrap in a DataFrame for easy labeling\n",
    "df_leading_W_jet_pt = pd.DataFrame({'leading_W_jet_pt': leading_W_jet_pt_np, 'leading_W_jet_eta': leading_W_jet_eta_np})\n"
   ]
  },
  {
   "cell_type": "code",
   "execution_count": 49,
   "id": "051c849f-0fc7-454c-a95a-3c57e95cf4e1",
   "metadata": {},
   "outputs": [],
   "source": [
    "df_leading_W_jet_pt.to_hdf('leading_W_jet_pt.h5', key='df', mode='w')\n"
   ]
  },
  {
   "cell_type": "code",
   "execution_count": 79,
   "id": "79b48ba0-5ba8-4fd2-a7bf-8d60947cc7a9",
   "metadata": {},
   "outputs": [],
   "source": [
    "import vector\n",
    "# Example FatJet (your \"boson\")\n",
    "fatjet_p4 = ak.zip({\n",
    "    \"pt\": Wjets_candidates.pt,\n",
    "    \"eta\": Wjets_candidates.eta,\n",
    "    \"phi\": Wjets_candidates.phi,\n",
    "    \"mass\": Wjets_candidates.mass,\n",
    "}, with_name=\"Momentum4D\")"
   ]
  },
  {
   "cell_type": "code",
   "execution_count": 51,
   "id": "e2d70097-f13f-43a2-b68d-0ac9946bf317",
   "metadata": {},
   "outputs": [
    {
     "data": {
      "text/html": [
       "<div>\n",
       "<style scoped>\n",
       "    .dataframe tbody tr th:only-of-type {\n",
       "        vertical-align: middle;\n",
       "    }\n",
       "\n",
       "    .dataframe tbody tr th {\n",
       "        vertical-align: top;\n",
       "    }\n",
       "\n",
       "    .dataframe thead th {\n",
       "        text-align: right;\n",
       "    }\n",
       "</style>\n",
       "<table border=\"1\" class=\"dataframe\">\n",
       "  <thead>\n",
       "    <tr style=\"text-align: right;\">\n",
       "      <th></th>\n",
       "      <th>leading_W_jet_pt</th>\n",
       "      <th>leading_W_jet_eta</th>\n",
       "    </tr>\n",
       "  </thead>\n",
       "  <tbody>\n",
       "    <tr>\n",
       "      <th>0</th>\n",
       "      <td>366.250</td>\n",
       "      <td>0.178833</td>\n",
       "    </tr>\n",
       "    <tr>\n",
       "      <th>1</th>\n",
       "      <td>443.250</td>\n",
       "      <td>-0.152985</td>\n",
       "    </tr>\n",
       "    <tr>\n",
       "      <th>2</th>\n",
       "      <td>480.000</td>\n",
       "      <td>-1.210205</td>\n",
       "    </tr>\n",
       "    <tr>\n",
       "      <th>3</th>\n",
       "      <td>319.750</td>\n",
       "      <td>-1.611572</td>\n",
       "    </tr>\n",
       "    <tr>\n",
       "      <th>4</th>\n",
       "      <td>474.750</td>\n",
       "      <td>-0.145081</td>\n",
       "    </tr>\n",
       "    <tr>\n",
       "      <th>...</th>\n",
       "      <td>...</td>\n",
       "      <td>...</td>\n",
       "    </tr>\n",
       "    <tr>\n",
       "      <th>9194</th>\n",
       "      <td>240.625</td>\n",
       "      <td>-1.124023</td>\n",
       "    </tr>\n",
       "    <tr>\n",
       "      <th>9195</th>\n",
       "      <td>377.750</td>\n",
       "      <td>-0.402466</td>\n",
       "    </tr>\n",
       "    <tr>\n",
       "      <th>9196</th>\n",
       "      <td>344.000</td>\n",
       "      <td>-1.494141</td>\n",
       "    </tr>\n",
       "    <tr>\n",
       "      <th>9197</th>\n",
       "      <td>606.000</td>\n",
       "      <td>-0.218109</td>\n",
       "    </tr>\n",
       "    <tr>\n",
       "      <th>9198</th>\n",
       "      <td>502.250</td>\n",
       "      <td>1.587158</td>\n",
       "    </tr>\n",
       "  </tbody>\n",
       "</table>\n",
       "<p>9199 rows × 2 columns</p>\n",
       "</div>"
      ],
      "text/plain": [
       "      leading_W_jet_pt  leading_W_jet_eta\n",
       "0              366.250           0.178833\n",
       "1              443.250          -0.152985\n",
       "2              480.000          -1.210205\n",
       "3              319.750          -1.611572\n",
       "4              474.750          -0.145081\n",
       "...                ...                ...\n",
       "9194           240.625          -1.124023\n",
       "9195           377.750          -0.402466\n",
       "9196           344.000          -1.494141\n",
       "9197           606.000          -0.218109\n",
       "9198           502.250           1.587158\n",
       "\n",
       "[9199 rows x 2 columns]"
      ]
     },
     "execution_count": 51,
     "metadata": {},
     "output_type": "execute_result"
    }
   ],
   "source": [
    "pd.read_hdf('leading_W_jet_pt.h5')\n"
   ]
  },
  {
   "cell_type": "code",
   "execution_count": 80,
   "id": "44ddf312-521b-4ac4-8e31-783964b6fb88",
   "metadata": {},
   "outputs": [],
   "source": [
    "# Let's say we want the boost that brings the first two FatJets into the CM frame.\n",
    "# Step 1: Convert to Lorentz vectors\n",
    "fatjet_p4 = ak.zip({\n",
    "    \"pt\": Wjets_candidates.pt,\n",
    "    \"eta\": Wjets_candidates.eta,\n",
    "    \"phi\": Wjets_candidates.phi,\n",
    "    \"mass\": Wjets_candidates.mass,\n",
    "}, with_name=\"Momentum4D\")\n",
    "\n"
   ]
  },
  {
   "cell_type": "code",
   "execution_count": null,
   "id": "a2d103df-61d6-488b-ba7d-e70c50db3e3d",
   "metadata": {},
   "outputs": [],
   "source": []
  },
  {
   "cell_type": "code",
   "execution_count": 81,
   "id": "4f332bdd-590e-43f7-aa0a-c5b8a1c1e12d",
   "metadata": {},
   "outputs": [],
   "source": [
    "# Select SubJets based on indices stored in the selected FatJets\n",
    "subjet_idx1 = Wjets_candidates.subJetIdx1\n",
    "subjet_idx2 = Wjets_candidates.subJetIdx2\n",
    "\n",
    "# Create a mask to select valid indices (some entries might be -1)\n",
    "valid = (subjet_idx1 >= 0) & (subjet_idx2 >= 0)\n",
    "\n",
    "# Apply mask to Wjets_candidates\n",
    "Wjets_with_subjets = Wjets_candidates[valid]\n",
    "idx1 = subjet_idx1[valid]\n",
    "idx2 = subjet_idx2[valid]\n",
    "\n",
    "subjet_idx1 = subjet_idx1[valid]\n",
    "subjet_idx2 = subjet_idx2[valid]\n",
    "\n",
    "subjet_idx1 = Wjets_candidates.subJetIdx1\n",
    "subjet_idx2 = Wjets_candidates.subJetIdx2\n",
    "\n",
    "# Only keep jets where both indices are valid\n",
    "valid_mask = (subjet_idx1 >= 0) & (subjet_idx2 >= 0)\n",
    "\n",
    "# Apply mask to subjet indices\n",
    "subjet_idx1_valid = subjet_idx1[valid_mask]\n",
    "subjet_idx2_valid = subjet_idx2[valid_mask]\n",
    "\n",
    "flat_idx1 = ak.flatten(subjet_idx1_valid)\n",
    "flat_idx2 = ak.flatten(subjet_idx2_valid)\n",
    "\n",
    "# Also flatten the matching FatJets\n",
    "flat_fatjets = ak.flatten(Wjets_candidates[valid_mask])\n",
    "\n",
    "# Flatten SubJets per event\n",
    "all_subjets = ak.flatten(events.SubJet, axis=1)\n",
    "\n",
    "# Get the matched subjets\n",
    "subjet1 = all_subjets[flat_idx1]\n",
    "subjet2 = all_subjets[flat_idx2]"
   ]
  },
  {
   "cell_type": "code",
   "execution_count": 85,
   "id": "2179753a-af15-4f83-bb89-ebad19695351",
   "metadata": {},
   "outputs": [
    {
     "ename": "TypeError",
     "evalue": "mask() got an unexpected keyword argument 'axis'",
     "output_type": "error",
     "traceback": [
      "\u001b[0;31m---------------------------------------------------------------------------\u001b[0m",
      "\u001b[0;31mTypeError\u001b[0m                                 Traceback (most recent call last)",
      "Cell \u001b[0;32mIn[85], line 10\u001b[0m\n\u001b[1;32m      5\u001b[0m selected_fatjets \u001b[38;5;241m=\u001b[39m events\u001b[38;5;241m.\u001b[39mFatJet[fatjet_mask]\n\u001b[1;32m      7\u001b[0m \u001b[38;5;66;03m# Now select subjets belonging to those fat jets\u001b[39;00m\n\u001b[1;32m      8\u001b[0m \u001b[38;5;66;03m# assuming events.SubJet is nested inside events.FatJet (same jagged structure)\u001b[39;00m\n\u001b[1;32m      9\u001b[0m \u001b[38;5;66;03m#clean_SubJets = events.SubJet[fatjet_mask]\u001b[39;00m\n\u001b[0;32m---> 10\u001b[0m clean_SubJets \u001b[38;5;241m=\u001b[39m \u001b[43mak\u001b[49m\u001b[38;5;241;43m.\u001b[39;49m\u001b[43mmask\u001b[49m\u001b[43m(\u001b[49m\u001b[43mevents\u001b[49m\u001b[38;5;241;43m.\u001b[39;49m\u001b[43mSubJet\u001b[49m\u001b[43m,\u001b[49m\u001b[43m \u001b[49m\u001b[43mfatjet_mask\u001b[49m\u001b[43m,\u001b[49m\u001b[43m \u001b[49m\u001b[43maxis\u001b[49m\u001b[38;5;241;43m=\u001b[39;49m\u001b[38;5;241;43m1\u001b[39;49m\u001b[43m)\u001b[49m\n\u001b[1;32m     11\u001b[0m \u001b[38;5;66;03m# To mask SubJet at the fatjet level, set subjets to None where fatjet_mask is False\u001b[39;00m\n\u001b[1;32m     12\u001b[0m masked_subjets \u001b[38;5;241m=\u001b[39m ak\u001b[38;5;241m.\u001b[39mwhere(fatjet_mask, events\u001b[38;5;241m.\u001b[39mSubJet, \u001b[38;5;28;01mNone\u001b[39;00m)\n",
      "File \u001b[0;32m/usr/local/lib/python3.12/site-packages/awkward/_dispatch.py:38\u001b[0m, in \u001b[0;36mnamed_high_level_function.<locals>.dispatch\u001b[0;34m(*args, **kwargs)\u001b[0m\n\u001b[1;32m     35\u001b[0m \u001b[38;5;129m@wraps\u001b[39m(func)\n\u001b[1;32m     36\u001b[0m \u001b[38;5;28;01mdef\u001b[39;00m\u001b[38;5;250m \u001b[39m\u001b[38;5;21mdispatch\u001b[39m(\u001b[38;5;241m*\u001b[39margs, \u001b[38;5;241m*\u001b[39m\u001b[38;5;241m*\u001b[39mkwargs):\n\u001b[1;32m     37\u001b[0m     \u001b[38;5;66;03m# NOTE: this decorator assumes that the operation is exposed under `ak.`\u001b[39;00m\n\u001b[0;32m---> 38\u001b[0m \u001b[43m    \u001b[49m\u001b[38;5;28;43;01mwith\u001b[39;49;00m\u001b[43m \u001b[49m\u001b[43mOperationErrorContext\u001b[49m\u001b[43m(\u001b[49m\u001b[43mname\u001b[49m\u001b[43m,\u001b[49m\u001b[43m \u001b[49m\u001b[43margs\u001b[49m\u001b[43m,\u001b[49m\u001b[43m \u001b[49m\u001b[43mkwargs\u001b[49m\u001b[43m)\u001b[49m\u001b[43m:\u001b[49m\n\u001b[1;32m     39\u001b[0m \u001b[43m        \u001b[49m\u001b[43mgen_or_result\u001b[49m\u001b[43m \u001b[49m\u001b[38;5;241;43m=\u001b[39;49m\u001b[43m \u001b[49m\u001b[43mfunc\u001b[49m\u001b[43m(\u001b[49m\u001b[38;5;241;43m*\u001b[39;49m\u001b[43margs\u001b[49m\u001b[43m,\u001b[49m\u001b[43m \u001b[49m\u001b[38;5;241;43m*\u001b[39;49m\u001b[38;5;241;43m*\u001b[39;49m\u001b[43mkwargs\u001b[49m\u001b[43m)\u001b[49m\n\u001b[1;32m     40\u001b[0m \u001b[43m        \u001b[49m\u001b[38;5;28;43;01mif\u001b[39;49;00m\u001b[43m \u001b[49m\u001b[43misgenerator\u001b[49m\u001b[43m(\u001b[49m\u001b[43mgen_or_result\u001b[49m\u001b[43m)\u001b[49m\u001b[43m:\u001b[49m\n",
      "File \u001b[0;32m/usr/local/lib/python3.12/site-packages/awkward/_errors.py:80\u001b[0m, in \u001b[0;36mErrorContext.__exit__\u001b[0;34m(self, exception_type, exception_value, traceback)\u001b[0m\n\u001b[1;32m     78\u001b[0m     \u001b[38;5;28mself\u001b[39m\u001b[38;5;241m.\u001b[39m_slate\u001b[38;5;241m.\u001b[39m\u001b[38;5;18m__dict__\u001b[39m\u001b[38;5;241m.\u001b[39mclear()\n\u001b[1;32m     79\u001b[0m     \u001b[38;5;66;03m# Handle caught exception\u001b[39;00m\n\u001b[0;32m---> 80\u001b[0m     \u001b[38;5;28;01mraise\u001b[39;00m \u001b[38;5;28mself\u001b[39m\u001b[38;5;241m.\u001b[39mdecorate_exception(exception_type, exception_value)\n\u001b[1;32m     81\u001b[0m \u001b[38;5;28;01melse\u001b[39;00m:\n\u001b[1;32m     82\u001b[0m     \u001b[38;5;66;03m# Step out of the way so that another ErrorContext can become primary.\u001b[39;00m\n\u001b[1;32m     83\u001b[0m     \u001b[38;5;28;01mif\u001b[39;00m \u001b[38;5;28mself\u001b[39m\u001b[38;5;241m.\u001b[39mprimary() \u001b[38;5;129;01mis\u001b[39;00m \u001b[38;5;28mself\u001b[39m:\n",
      "File \u001b[0;32m/usr/local/lib/python3.12/site-packages/awkward/_dispatch.py:39\u001b[0m, in \u001b[0;36mnamed_high_level_function.<locals>.dispatch\u001b[0;34m(*args, **kwargs)\u001b[0m\n\u001b[1;32m     35\u001b[0m \u001b[38;5;129m@wraps\u001b[39m(func)\n\u001b[1;32m     36\u001b[0m \u001b[38;5;28;01mdef\u001b[39;00m\u001b[38;5;250m \u001b[39m\u001b[38;5;21mdispatch\u001b[39m(\u001b[38;5;241m*\u001b[39margs, \u001b[38;5;241m*\u001b[39m\u001b[38;5;241m*\u001b[39mkwargs):\n\u001b[1;32m     37\u001b[0m     \u001b[38;5;66;03m# NOTE: this decorator assumes that the operation is exposed under `ak.`\u001b[39;00m\n\u001b[1;32m     38\u001b[0m     \u001b[38;5;28;01mwith\u001b[39;00m OperationErrorContext(name, args, kwargs):\n\u001b[0;32m---> 39\u001b[0m         gen_or_result \u001b[38;5;241m=\u001b[39m \u001b[43mfunc\u001b[49m\u001b[43m(\u001b[49m\u001b[38;5;241;43m*\u001b[39;49m\u001b[43margs\u001b[49m\u001b[43m,\u001b[49m\u001b[43m \u001b[49m\u001b[38;5;241;43m*\u001b[39;49m\u001b[38;5;241;43m*\u001b[39;49m\u001b[43mkwargs\u001b[49m\u001b[43m)\u001b[49m\n\u001b[1;32m     40\u001b[0m         \u001b[38;5;28;01mif\u001b[39;00m isgenerator(gen_or_result):\n\u001b[1;32m     41\u001b[0m             array_likes \u001b[38;5;241m=\u001b[39m \u001b[38;5;28mnext\u001b[39m(gen_or_result)\n",
      "\u001b[0;31mTypeError\u001b[0m: mask() got an unexpected keyword argument 'axis'",
      "\u001b[0m\nThis error occurred while calling\n\n    ak.mask(\n        <PtEtaPhiMCollectionArray [[{btagCMVA: ..., ...}, ...], ...] type='...'>\n        <Array [[True, True], ..., [True, ...]] type='10000 * var * bool'>\n        axis = 1\n    )"
     ]
    }
   ],
   "source": [
    "# Mask fat jets passing cuts\n",
    "fatjet_mask = (events.FatJet.pt > 200) & (np.abs(events.FatJet.eta) < 2.4)\n",
    "\n",
    "# Select only those fat jets\n",
    "selected_fatjets = events.FatJet[fatjet_mask]\n",
    "\n",
    "\n",
    "# This works with BulkGraviton But not Radion \n",
    "clean_SubJets = events.SubJet[(events.FatJet.pt > 200) & (np.abs(events.FatJet.eta) < 2.4)]\n",
    "\n",
    "AK8subjets_candidates_mask = ak.num(clean_SubJets) >= 1\n",
    "\n",
    "Wjets_candidates_subjets= clean_SubJets[AK8subjets_candidates_mask]"
   ]
  },
  {
   "cell_type": "code",
   "execution_count": 73,
   "id": "4c94e9bb-7516-4d4e-849c-d3143e8c9776",
   "metadata": {},
   "outputs": [
    {
     "name": "stdout",
     "output_type": "stream",
     "text": [
      "<class 'vector.backends.awkward.MomentumArray3D'>\n",
      "<class 'vector.backends.awkward.MomentumArray3D'>\n",
      "[{x: 0.456, y: -0.841, z: 0.29}, {x: ..., ...}, ..., {x: 0.447, y: 0.894, z: 0}]\n",
      "[{x: -0.717, y: -0.582, z: 0.382}, {...}, ..., {x: 0.513, y: -0.806, z: 0.295}]\n",
      "[0.273, 0.671, 0.439, 0.143, 0.544, ..., 0.0861, 0.716, -0.966, 0.313, -0.492]\n"
     ]
    },
    {
     "data": {
      "text/plain": [
       "[StairsArtists(stairs=<matplotlib.patches.StepPatch object at 0x7f8025fe74a0>, errorbar=<ErrorbarContainer object of 3 artists>, legend_artist=<ErrorbarContainer object of 3 artists>)]"
      ]
     },
     "execution_count": 73,
     "metadata": {},
     "output_type": "execute_result"
    },
    {
     "data": {
      "image/png": "[encoded data removed]",
      "text/plain": [
       "<Figure size 640x480 with 1 Axes>"
      ]
     },
     "metadata": {},
     "output_type": "display_data"
    }
   ],
   "source": [
    "# print(fatjet_p4[:,0])\n",
    "subjet_p4 = ak.zip({\n",
    "    \"pt\": Wjets_candidates_subjets.pt,\n",
    "    \"eta\": Wjets_candidates_subjets.eta,\n",
    "    \"phi\": Wjets_candidates_subjets.phi,\n",
    "    \"mass\": Wjets_candidates_subjets.mass,\n",
    "}, with_name=\"Momentum4D\")\n",
    "# Step 2: Compute the boost to CM frame\n",
    "#boost_vectors = subjet_p4[:,0].boostCM_of_p4(fatjet_p4[:,0])\n",
    "\n",
    "# # Step 3: Apply the boost to each jet\n",
    "# # This gives the FatJets *in the CM frame of the system*\n",
    "# fj_boosted = fj_vectors.boost(boost_vectors)\n",
    "# p_boson: Momentum4D vector of the vector boson candidate\n",
    "# p_decay: Momentum4D vector of one of its decay products (e.g. the lepton or leading subjet)\n",
    "\n",
    "# Step 1: Compute the CM frame boost of the boson\n",
    "W_p4 = ak.sum(subjet_p4, axis=1)\n",
    "\n",
    "# Step 3: Get boost vector — the **negative 3-momentum** of W divided by its energy\n",
    "boost_vec = -W_p4.to_Vector3D() / W_p4.energy\n",
    "\n",
    "# Step 4: Boost the subjets into the W rest frame\n",
    "subjets_cm = subjet_p4.boost(boost_vec)\n",
    "\n",
    "\n",
    "decay_product = subjets_cm[:, 0]  # pick leading subjet\n",
    "W_direction = W_p4.to_Vector3D().unit()\n",
    "\n",
    "decay_vec3 = decay_product.to_Vector3D()\n",
    "decay_unit = decay_vec3.unit()   # property, no ()\n",
    "\n",
    "print(type(decay_unit))\n",
    "print(type(W_direction))\n",
    "print(decay_unit)\n",
    "print(W_direction)\n",
    "\n",
    "cos_theta_star = decay_unit.dot(W_direction)  # this returns an awkward array of floats\n",
    "#W_direction\n",
    "print(cos_theta_star)#cos_theta_star = decay_product.to_Vector3D().unit() @ W_direction()  # cos(theta*)\n",
    "\n",
    "leading_cos_theta_star_hist = hist.Hist(hist.axis.StrCategory(name='dataset', label=\"Dataset\", categories=[], growth=True),\n",
    "                            hist.axis.Regular(name='leading_AK8_cos_theta_star', label='Leading AK8 cos_theta_star', bins=80, start=-1, stop=1))\n",
    "leading_cos_theta_star_hist.fill(dataset=test_dataset, leading_AK8_cos_theta_star=cos_theta_star)\n",
    "leading_cos_theta_star_hist.plot1d()"
   ]
  },
  {
   "cell_type": "code",
   "execution_count": 104,
   "id": "acfbee25-10fd-43ab-a723-7828f436a56e",
   "metadata": {},
   "outputs": [
    {
     "ename": "ImportError",
     "evalue": "cannot import name 'CosTheta' from 'vector._compute' (/usr/local/lib/python3.12/site-packages/vector/_compute/__init__.py)",
     "output_type": "error",
     "traceback": [
      "\u001b[0;31m---------------------------------------------------------------------------\u001b[0m",
      "\u001b[0;31mImportError\u001b[0m                               Traceback (most recent call last)",
      "Cell \u001b[0;32mIn[104], line 1\u001b[0m\n\u001b[0;32m----> 1\u001b[0m \u001b[38;5;28;01mfrom\u001b[39;00m\u001b[38;5;250m \u001b[39m\u001b[38;5;21;01mvector\u001b[39;00m\u001b[38;5;21;01m.\u001b[39;00m\u001b[38;5;21;01m_compute\u001b[39;00m\u001b[38;5;250m \u001b[39m\u001b[38;5;28;01mimport\u001b[39;00m CosTheta\n\u001b[1;32m      2\u001b[0m \u001b[38;5;66;03m# from vector.backends.awkward import VectorArray\u001b[39;00m\n\u001b[1;32m      3\u001b[0m \n\u001b[1;32m      4\u001b[0m \n\u001b[0;32m   (...)\u001b[0m\n\u001b[1;32m     25\u001b[0m \u001b[38;5;66;03m#     cos_theta_star = CosTheta.xyzt(w_boson_vec, lepton_in_w_rest)\u001b[39;00m\n\u001b[1;32m     26\u001b[0m \u001b[38;5;66;03m#     return cos_theta_star\u001b[39;00m\n",
      "\u001b[0;31mImportError\u001b[0m: cannot import name 'CosTheta' from 'vector._compute' (/usr/local/lib/python3.12/site-packages/vector/_compute/__init__.py)"
     ]
    }
   ],
   "source": []
  },
  {
   "cell_type": "code",
   "execution_count": 108,
   "id": "d8dc9971-e253-4ba1-b231-1203729d5343",
   "metadata": {},
   "outputs": [
    {
     "ename": "AssertionError",
     "evalue": "<ThreeVectorArray [[{rho: 349, phi: 1.65, ...}, ...], ...] type='10000 * va...'>",
     "output_type": "error",
     "traceback": [
      "\u001b[0;31m---------------------------------------------------------------------------\u001b[0m",
      "\u001b[0;31mAssertionError\u001b[0m                            Traceback (most recent call last)",
      "Cell \u001b[0;32mIn[108], line 8\u001b[0m\n\u001b[1;32m      1\u001b[0m fatjet_p4 \u001b[38;5;241m=\u001b[39m ak\u001b[38;5;241m.\u001b[39mzip({\n\u001b[1;32m      2\u001b[0m     \u001b[38;5;124m\"\u001b[39m\u001b[38;5;124mpt\u001b[39m\u001b[38;5;124m\"\u001b[39m: events\u001b[38;5;241m.\u001b[39mFatJet\u001b[38;5;241m.\u001b[39mpt,\n\u001b[1;32m      3\u001b[0m     \u001b[38;5;124m\"\u001b[39m\u001b[38;5;124meta\u001b[39m\u001b[38;5;124m\"\u001b[39m: events\u001b[38;5;241m.\u001b[39mFatJet\u001b[38;5;241m.\u001b[39meta,\n\u001b[1;32m      4\u001b[0m     \u001b[38;5;124m\"\u001b[39m\u001b[38;5;124mphi\u001b[39m\u001b[38;5;124m\"\u001b[39m: events\u001b[38;5;241m.\u001b[39mFatJet\u001b[38;5;241m.\u001b[39mphi,\n\u001b[1;32m      5\u001b[0m     \u001b[38;5;124m\"\u001b[39m\u001b[38;5;124mmass\u001b[39m\u001b[38;5;124m\"\u001b[39m: events\u001b[38;5;241m.\u001b[39mFatJet\u001b[38;5;241m.\u001b[39mmass,\n\u001b[1;32m      6\u001b[0m }, with_name\u001b[38;5;241m=\u001b[39m\u001b[38;5;124m\"\u001b[39m\u001b[38;5;124mMomentum4D\u001b[39m\u001b[38;5;124m\"\u001b[39m)\n\u001b[0;32m----> 8\u001b[0m \u001b[43mfatjet_p4\u001b[49m\u001b[38;5;241;43m.\u001b[39;49m\u001b[43mboostCM_of_p4\u001b[49m\u001b[43m(\u001b[49m\u001b[43mevents\u001b[49m\u001b[38;5;241;43m.\u001b[39;49m\u001b[43mFatJet\u001b[49m\u001b[43m)\u001b[49m\n",
      "File \u001b[0;32m/usr/local/lib/python3.12/site-packages/vector/_methods.py:3891\u001b[0m, in \u001b[0;36mLorentz.boostCM_of_p4\u001b[0;34m(self, p4)\u001b[0m\n\u001b[1;32m   3889\u001b[0m \u001b[38;5;28;01mif\u001b[39;00m dim(p4) \u001b[38;5;241m!=\u001b[39m \u001b[38;5;241m4\u001b[39m:\n\u001b[1;32m   3890\u001b[0m     \u001b[38;5;28;01mraise\u001b[39;00m \u001b[38;5;167;01mTypeError\u001b[39;00m(\u001b[38;5;124mf\u001b[39m\u001b[38;5;124m\"\u001b[39m\u001b[38;5;132;01m{\u001b[39;00mp4\u001b[38;5;132;01m!r}\u001b[39;00m\u001b[38;5;124m is not a 4D momentum vector\u001b[39m\u001b[38;5;124m\"\u001b[39m)\n\u001b[0;32m-> 3891\u001b[0m \u001b[38;5;28;01mreturn\u001b[39;00m \u001b[43mboost_p4\u001b[49m\u001b[38;5;241;43m.\u001b[39;49m\u001b[43mdispatch\u001b[49m\u001b[43m(\u001b[49m\u001b[38;5;28;43mself\u001b[39;49m\u001b[43m,\u001b[49m\u001b[43m \u001b[49m\u001b[43mp4\u001b[49m\u001b[38;5;241;43m.\u001b[39;49m\u001b[43mneg3D\u001b[49m\u001b[43m)\u001b[49m\n",
      "File \u001b[0;32m/usr/local/lib/python3.12/site-packages/vector/_compute/lorentz/boost_p4.py:780\u001b[0m, in \u001b[0;36mdispatch\u001b[0;34m(v1, v2)\u001b[0m\n\u001b[1;32m    770\u001b[0m \u001b[38;5;28;01mdef\u001b[39;00m\u001b[38;5;250m \u001b[39m\u001b[38;5;21mdispatch\u001b[39m(v1: typing\u001b[38;5;241m.\u001b[39mAny, v2: typing\u001b[38;5;241m.\u001b[39mAny) \u001b[38;5;241m-\u001b[39m\u001b[38;5;241m>\u001b[39m typing\u001b[38;5;241m.\u001b[39mAny:\n\u001b[1;32m    771\u001b[0m     function, \u001b[38;5;241m*\u001b[39mreturns \u001b[38;5;241m=\u001b[39m _from_signature(\n\u001b[1;32m    772\u001b[0m         \u001b[38;5;18m__name__\u001b[39m,\n\u001b[1;32m    773\u001b[0m         dispatch_map,\n\u001b[1;32m    774\u001b[0m         (\n\u001b[1;32m    775\u001b[0m             _aztype(v1),\n\u001b[1;32m    776\u001b[0m             _ltype(v1),\n\u001b[1;32m    777\u001b[0m             _ttype(v1),\n\u001b[1;32m    778\u001b[0m             _aztype(v2),\n\u001b[1;32m    779\u001b[0m             _ltype(v2),\n\u001b[0;32m--> 780\u001b[0m             \u001b[43m_ttype\u001b[49m\u001b[43m(\u001b[49m\u001b[43mv2\u001b[49m\u001b[43m)\u001b[49m,\n\u001b[1;32m    781\u001b[0m         ),\n\u001b[1;32m    782\u001b[0m     )\n\u001b[1;32m    783\u001b[0m     \u001b[38;5;28;01mwith\u001b[39;00m numpy\u001b[38;5;241m.\u001b[39merrstate(\u001b[38;5;28mall\u001b[39m\u001b[38;5;241m=\u001b[39m\u001b[38;5;124m\"\u001b[39m\u001b[38;5;124mignore\u001b[39m\u001b[38;5;124m\"\u001b[39m):\n\u001b[1;32m    784\u001b[0m         handler \u001b[38;5;241m=\u001b[39m _handler_of(v1, v2)\n",
      "File \u001b[0;32m/usr/local/lib/python3.12/site-packages/vector/_methods.py:4390\u001b[0m, in \u001b[0;36m_ttype\u001b[0;34m(obj)\u001b[0m\n\u001b[1;32m   4388\u001b[0m         \u001b[38;5;28;01mif\u001b[39;00m t \u001b[38;5;129;01min\u001b[39;00m (TemporalT, TemporalTau):\n\u001b[1;32m   4389\u001b[0m             \u001b[38;5;28;01mreturn\u001b[39;00m t\n\u001b[0;32m-> 4390\u001b[0m \u001b[38;5;28;01mraise\u001b[39;00m \u001b[38;5;167;01mAssertionError\u001b[39;00m(\u001b[38;5;28mrepr\u001b[39m(obj))\n",
      "\u001b[0;31mAssertionError\u001b[0m: <ThreeVectorArray [[{rho: 349, phi: 1.65, ...}, ...], ...] type='10000 * va...'>"
     ]
    }
   ],
   "source": []
  },
  {
   "cell_type": "code",
   "execution_count": 103,
   "id": "58471964-4758-47f7-ab47-8157e2e49697",
   "metadata": {},
   "outputs": [
    {
     "ename": "TypeError",
     "evalue": "<VectorArray3D [[{px: 21, py: -325, ...}, ...], ...] type='10000 * var * Ve...'> is not a 4D vector",
     "output_type": "error",
     "traceback": [
      "\u001b[0;31m---------------------------------------------------------------------------\u001b[0m",
      "\u001b[0;31mTypeError\u001b[0m                                 Traceback (most recent call last)",
      "Cell \u001b[0;32mIn[103], line 9\u001b[0m\n\u001b[1;32m      1\u001b[0m boost_vector \u001b[38;5;241m=\u001b[39m ak\u001b[38;5;241m.\u001b[39mzip(\n\u001b[1;32m      2\u001b[0m         {\n\u001b[1;32m      3\u001b[0m             \u001b[38;5;124m\"\u001b[39m\u001b[38;5;124mpx\u001b[39m\u001b[38;5;124m\"\u001b[39m: events\u001b[38;5;241m.\u001b[39mSubJet\u001b[38;5;241m.\u001b[39mpx,\n\u001b[0;32m   (...)\u001b[0m\n\u001b[1;32m      7\u001b[0m         with_name\u001b[38;5;241m=\u001b[39m\u001b[38;5;124m\"\u001b[39m\u001b[38;5;124mVector3D\u001b[39m\u001b[38;5;124m\"\u001b[39m,\n\u001b[1;32m      8\u001b[0m     )\n\u001b[0;32m----> 9\u001b[0m fatjet_p4_boosted \u001b[38;5;241m=\u001b[39m \u001b[43mfatjet_p4\u001b[49m\u001b[38;5;241;43m.\u001b[39;49m\u001b[43mboost_p4\u001b[49m\u001b[43m(\u001b[49m\u001b[43mboost_vector\u001b[49m\u001b[43m)\u001b[49m\n",
      "File \u001b[0;32m/usr/local/lib/python3.12/site-packages/vector/_methods.py:3857\u001b[0m, in \u001b[0;36mLorentz.boost_p4\u001b[0;34m(self, p4)\u001b[0m\n\u001b[1;32m   3854\u001b[0m \u001b[38;5;28;01mfrom\u001b[39;00m\u001b[38;5;250m \u001b[39m\u001b[38;5;21;01mvector\u001b[39;00m\u001b[38;5;21;01m.\u001b[39;00m\u001b[38;5;21;01m_compute\u001b[39;00m\u001b[38;5;21;01m.\u001b[39;00m\u001b[38;5;21;01mlorentz\u001b[39;00m\u001b[38;5;250m \u001b[39m\u001b[38;5;28;01mimport\u001b[39;00m boost_p4\n\u001b[1;32m   3856\u001b[0m \u001b[38;5;28;01mif\u001b[39;00m dim(p4) \u001b[38;5;241m!=\u001b[39m \u001b[38;5;241m4\u001b[39m:\n\u001b[0;32m-> 3857\u001b[0m     \u001b[38;5;28;01mraise\u001b[39;00m \u001b[38;5;167;01mTypeError\u001b[39;00m(\u001b[38;5;124mf\u001b[39m\u001b[38;5;124m\"\u001b[39m\u001b[38;5;132;01m{\u001b[39;00mp4\u001b[38;5;132;01m!r}\u001b[39;00m\u001b[38;5;124m is not a 4D vector\u001b[39m\u001b[38;5;124m\"\u001b[39m)\n\u001b[1;32m   3858\u001b[0m \u001b[38;5;28;01mreturn\u001b[39;00m boost_p4\u001b[38;5;241m.\u001b[39mdispatch(\u001b[38;5;28mself\u001b[39m, p4)\n",
      "\u001b[0;31mTypeError\u001b[0m: <VectorArray3D [[{px: 21, py: -325, ...}, ...], ...] type='10000 * var * Ve...'> is not a 4D vector"
     ]
    }
   ],
   "source": []
  },
  {
   "cell_type": "code",
   "execution_count": null,
   "id": "02198ddb-edb1-40a3-ada3-265003b423b0",
   "metadata": {},
   "outputs": [],
   "source": []
  },
  {
   "cell_type": "code",
   "execution_count": 36,
   "id": "a334e628-1af2-4b11-8360-bd76a43656ed",
   "metadata": {},
   "outputs": [],
   "source": []
  },
  {
   "cell_type": "code",
   "execution_count": 82,
   "id": "ac45073c-025d-4c98-b435-8ffc1c6d631f",
   "metadata": {},
   "outputs": [
    {
     "ename": "AttributeError",
     "evalue": "'MomentumNumpy4D' object has no attribute 'boostvec'",
     "output_type": "error",
     "traceback": [
      "\u001b[0;31m---------------------------------------------------------------------------\u001b[0m",
      "\u001b[0;31mAttributeError\u001b[0m                            Traceback (most recent call last)",
      "Cell \u001b[0;32mIn[82], line 2\u001b[0m\n\u001b[1;32m      1\u001b[0m \u001b[38;5;66;03m# Create the boost vector for each fatjet (momentum direction in 3D)\u001b[39;00m\n\u001b[0;32m----> 2\u001b[0m boost_vec \u001b[38;5;241m=\u001b[39m \u001b[43mfatjet_p4\u001b[49m\u001b[38;5;241;43m.\u001b[39;49m\u001b[43mboostvec\u001b[49m\n",
      "\u001b[0;31mAttributeError\u001b[0m: 'MomentumNumpy4D' object has no attribute 'boostvec'"
     ]
    }
   ],
   "source": []
  },
  {
   "cell_type": "code",
   "execution_count": 48,
   "id": "346b58cf-d986-4d02-b100-e06c15e35d14",
   "metadata": {},
   "outputs": [],
   "source": []
  },
  {
   "cell_type": "code",
   "execution_count": 58,
   "id": "1c006094-1ce4-4d68-bef0-e9d704b4dc5a",
   "metadata": {},
   "outputs": [],
   "source": []
  },
  {
   "cell_type": "code",
   "execution_count": 70,
   "id": "35bb4e12-3086-4e17-8e1d-e123b08cc0e8",
   "metadata": {},
   "outputs": [
    {
     "ename": "AttributeError",
     "evalue": "module 'awkward' has no attribute 'stack'",
     "output_type": "error",
     "traceback": [
      "\u001b[0;31m---------------------------------------------------------------------------\u001b[0m",
      "\u001b[0;31mAttributeError\u001b[0m                            Traceback (most recent call last)",
      "Cell \u001b[0;32mIn[70], line 50\u001b[0m\n\u001b[1;32m     37\u001b[0m subjet_p4 \u001b[38;5;241m=\u001b[39m vector\u001b[38;5;241m.\u001b[39marray({\n\u001b[1;32m     38\u001b[0m     \u001b[38;5;124m\"\u001b[39m\u001b[38;5;124mpt\u001b[39m\u001b[38;5;124m\"\u001b[39m: flat_subjets\u001b[38;5;241m.\u001b[39mpt,\n\u001b[1;32m     39\u001b[0m     \u001b[38;5;124m\"\u001b[39m\u001b[38;5;124meta\u001b[39m\u001b[38;5;124m\"\u001b[39m: flat_subjets\u001b[38;5;241m.\u001b[39meta,\n\u001b[1;32m     40\u001b[0m     \u001b[38;5;124m\"\u001b[39m\u001b[38;5;124mphi\u001b[39m\u001b[38;5;124m\"\u001b[39m: flat_subjets\u001b[38;5;241m.\u001b[39mphi,\n\u001b[1;32m     41\u001b[0m     \u001b[38;5;124m\"\u001b[39m\u001b[38;5;124mmass\u001b[39m\u001b[38;5;124m\"\u001b[39m: flat_subjets\u001b[38;5;241m.\u001b[39mmass,\n\u001b[1;32m     42\u001b[0m })\n\u001b[1;32m     43\u001b[0m \u001b[38;5;66;03m# # Repeat each FatJet 2 times to match 2 subjets\u001b[39;00m\n\u001b[1;32m     44\u001b[0m \u001b[38;5;66;03m# fatjet_p4_repeated = ak.unflatten(fatjet_p4, 2)\u001b[39;00m\n\u001b[1;32m     45\u001b[0m \u001b[38;5;66;03m# fatjet_p4_repeated = ak.flatten(fatjet_p4_repeated)\u001b[39;00m\n\u001b[1;32m     46\u001b[0m \u001b[38;5;66;03m# assert len(fatjet_p4_repeated) == len(subjet_p4)\u001b[39;00m\n\u001b[1;32m     47\u001b[0m \n\u001b[1;32m     48\u001b[0m \u001b[38;5;66;03m# Stack subjets per fatjet\u001b[39;00m\n\u001b[1;32m     49\u001b[0m subjets_per_fatjet \u001b[38;5;241m=\u001b[39m ak\u001b[38;5;241m.\u001b[39mzip({\n\u001b[0;32m---> 50\u001b[0m     \u001b[38;5;124m\"\u001b[39m\u001b[38;5;124mpt\u001b[39m\u001b[38;5;124m\"\u001b[39m: \u001b[43mak\u001b[49m\u001b[38;5;241;43m.\u001b[39;49m\u001b[43mstack\u001b[49m([subjet1\u001b[38;5;241m.\u001b[39mpt, subjet2\u001b[38;5;241m.\u001b[39mpt], axis\u001b[38;5;241m=\u001b[39m\u001b[38;5;241m1\u001b[39m),\n\u001b[1;32m     51\u001b[0m     \u001b[38;5;124m\"\u001b[39m\u001b[38;5;124meta\u001b[39m\u001b[38;5;124m\"\u001b[39m: ak\u001b[38;5;241m.\u001b[39mstack([subjet1\u001b[38;5;241m.\u001b[39meta, subjet2\u001b[38;5;241m.\u001b[39meta], axis\u001b[38;5;241m=\u001b[39m\u001b[38;5;241m1\u001b[39m),\n\u001b[1;32m     52\u001b[0m     \u001b[38;5;124m\"\u001b[39m\u001b[38;5;124mphi\u001b[39m\u001b[38;5;124m\"\u001b[39m: ak\u001b[38;5;241m.\u001b[39mstack([subjet1\u001b[38;5;241m.\u001b[39mphi, subjet2\u001b[38;5;241m.\u001b[39mphi], axis\u001b[38;5;241m=\u001b[39m\u001b[38;5;241m1\u001b[39m),\n\u001b[1;32m     53\u001b[0m     \u001b[38;5;124m\"\u001b[39m\u001b[38;5;124mmass\u001b[39m\u001b[38;5;124m\"\u001b[39m: ak\u001b[38;5;241m.\u001b[39mstack([subjet1\u001b[38;5;241m.\u001b[39mmass, subjet2\u001b[38;5;241m.\u001b[39mmass], axis\u001b[38;5;241m=\u001b[39m\u001b[38;5;241m1\u001b[39m),\n\u001b[1;32m     54\u001b[0m })\n",
      "\u001b[0;31mAttributeError\u001b[0m: module 'awkward' has no attribute 'stack'"
     ]
    }
   ],
   "source": []
  },
  {
   "cell_type": "code",
   "execution_count": 56,
   "id": "91693713-06ac-42f0-8d53-432aa82bf7e2",
   "metadata": {},
   "outputs": [
    {
     "ename": "AttributeError",
     "evalue": "no field named 'boost'",
     "output_type": "error",
     "traceback": [
      "\u001b[0;31m---------------------------------------------------------------------------\u001b[0m",
      "\u001b[0;31mAttributeError\u001b[0m                            Traceback (most recent call last)",
      "Cell \u001b[0;32mIn[56], line 23\u001b[0m\n\u001b[1;32m     14\u001b[0m boost_vec_neg \u001b[38;5;241m=\u001b[39m ak\u001b[38;5;241m.\u001b[39mzip({\n\u001b[1;32m     15\u001b[0m     \u001b[38;5;124m\"\u001b[39m\u001b[38;5;124mpx\u001b[39m\u001b[38;5;124m\"\u001b[39m: neg_fatjet_px,\n\u001b[1;32m     16\u001b[0m     \u001b[38;5;124m\"\u001b[39m\u001b[38;5;124mpy\u001b[39m\u001b[38;5;124m\"\u001b[39m: neg_fatjet_py,\n\u001b[1;32m     17\u001b[0m     \u001b[38;5;124m\"\u001b[39m\u001b[38;5;124mpz\u001b[39m\u001b[38;5;124m\"\u001b[39m: neg_fatjet_pz,\n\u001b[1;32m     18\u001b[0m     \u001b[38;5;124m\"\u001b[39m\u001b[38;5;124menergy\u001b[39m\u001b[38;5;124m\"\u001b[39m: neg_fatjet_energy,\n\u001b[1;32m     19\u001b[0m }, with_name\u001b[38;5;241m=\u001b[39m\u001b[38;5;124m\"\u001b[39m\u001b[38;5;124mLorentzVector\u001b[39m\u001b[38;5;124m\"\u001b[39m)\n\u001b[1;32m     21\u001b[0m \u001b[38;5;66;03m# Step 4: Apply the boost transformation\u001b[39;00m\n\u001b[1;32m     22\u001b[0m subjet1_rest \u001b[38;5;241m=\u001b[39m ak\u001b[38;5;241m.\u001b[39mArray([\n\u001b[0;32m---> 23\u001b[0m     \u001b[43msj\u001b[49m\u001b[38;5;241;43m.\u001b[39;49m\u001b[43mboost\u001b[49m(boost) \u001b[38;5;28;01mfor\u001b[39;00m sj, boost \u001b[38;5;129;01min\u001b[39;00m \u001b[38;5;28mzip\u001b[39m(subjet_p4_awk, boost_vec_neg)\n\u001b[1;32m     24\u001b[0m ])\n",
      "File \u001b[0;32m/usr/local/lib/python3.12/site-packages/awkward/highlevel.py:2237\u001b[0m, in \u001b[0;36mRecord.__getattr__\u001b[0;34m(self, where)\u001b[0m\n\u001b[1;32m   2232\u001b[0m         \u001b[38;5;28;01mraise\u001b[39;00m \u001b[38;5;167;01mAttributeError\u001b[39;00m(\n\u001b[1;32m   2233\u001b[0m             \u001b[38;5;124mf\u001b[39m\u001b[38;5;124m\"\u001b[39m\u001b[38;5;124mwhile trying to get field \u001b[39m\u001b[38;5;132;01m{\u001b[39;00mwhere\u001b[38;5;132;01m!r}\u001b[39;00m\u001b[38;5;124m, an exception \u001b[39m\u001b[38;5;124m\"\u001b[39m\n\u001b[1;32m   2234\u001b[0m             \u001b[38;5;124mf\u001b[39m\u001b[38;5;124m\"\u001b[39m\u001b[38;5;124moccurred:\u001b[39m\u001b[38;5;130;01m\\n\u001b[39;00m\u001b[38;5;132;01m{\u001b[39;00m\u001b[38;5;28mtype\u001b[39m(err)\u001b[38;5;132;01m}\u001b[39;00m\u001b[38;5;124m: \u001b[39m\u001b[38;5;132;01m{\u001b[39;00merr\u001b[38;5;132;01m!s}\u001b[39;00m\u001b[38;5;124m\"\u001b[39m\n\u001b[1;32m   2235\u001b[0m         ) \u001b[38;5;28;01mfrom\u001b[39;00m\u001b[38;5;250m \u001b[39m\u001b[38;5;21;01merr\u001b[39;00m\n\u001b[1;32m   2236\u001b[0m \u001b[38;5;28;01melse\u001b[39;00m:\n\u001b[0;32m-> 2237\u001b[0m     \u001b[38;5;28;01mraise\u001b[39;00m \u001b[38;5;167;01mAttributeError\u001b[39;00m(\u001b[38;5;124mf\u001b[39m\u001b[38;5;124m\"\u001b[39m\u001b[38;5;124mno field named \u001b[39m\u001b[38;5;132;01m{\u001b[39;00mwhere\u001b[38;5;132;01m!r}\u001b[39;00m\u001b[38;5;124m\"\u001b[39m)\n",
      "\u001b[0;31mAttributeError\u001b[0m: no field named 'boost'"
     ]
    }
   ],
   "source": []
  },
  {
   "cell_type": "code",
   "execution_count": null,
   "id": "5c47bbeb-0428-448a-8eef-64e5bf103158",
   "metadata": {},
   "outputs": [],
   "source": []
  }
 ],
 "metadata": {
  "kernelspec": {
   "display_name": "Python 3 (ipykernel)",
   "language": "python",
   "name": "python3"
  },
  "language_info": {
   "codemirror_mode": {
    "name": "ipython",
    "version": 3
   },
   "file_extension": ".py",
   "mimetype": "text/x-python",
   "name": "python",
   "nbconvert_exporter": "python",
   "pygments_lexer": "ipython3",
   "version": "3.12.5"
  }
 },
 "nbformat": 4,
 "nbformat_minor": 5
}
