{
 "cells": [
  {
   "cell_type": "code",
   "execution_count": null,
   "id": "24dc59e2-7202-46e1-b86e-700108b9d0a5",
   "metadata": {},
   "outputs": [],
   "source": [
    "import numpy as np\n",
    "import awkward as ak\n",
    "import uproot\n",
    "import matplotlib.pyplot as plt\n",
    "import hist\n",
    "import hist.dask as hda\n",
    "import dask\n",
    "import coffea.processor as processor\n",
    "from coffea.nanoevents import NanoEventsFactory, NanoAODSchema\n",
    "\n",
    "NanoAODSchema.warn_missing_crossrefs = False"
   ]
  },
  {
   "cell_type": "code",
   "execution_count": null,
   "id": "359be554-7a47-4ecc-abe2-338ab658db8b",
   "metadata": {},
   "outputs": [],
   "source": [
    "import os\n",
    "os.listdir('.')"
   ]
  },
  {
   "cell_type": "code",
   "execution_count": null,
   "id": "4aa706a3-3bb5-4b73-b6ee-84d9537b7efa",
   "metadata": {},
   "outputs": [],
   "source": [
    "# import json\n",
    "\n",
    "# with open(\"semileptonic_notebooks/samples.json\", 'r') as sample_file:\n",
    "#     fileset = json.load(sample_file)\n",
    "\n",
    "# for sample in fileset:\n",
    "#     print(sample)\n",
    "\n",
    "fileset = {\n",
    "    'BulkGravToWW_1000': {\n",
    "        'files': {\n",
    "            'root://cmsxrootd.fnal.gov//store/mc/RunIISummer16NanoAODv7/BulkGravToWW_narrow_M-1000_13TeV-madgraph/NANOAODSIM/PUMoriond17_Nano02Apr2020_102X_mcRun2_asymptotic_v8-v1/100000/D4404DCB-FBF8-C640-87B0-2DA1D5139083.root': \"Events\",\n",
    "        },\n",
    "        'metadata': {\n",
    "            'is_mc': 'Events',\n",
    "        },\n",
    "    }\n",
    "}"
   ]
  },
  {
   "cell_type": "code",
   "execution_count": null,
   "id": "614be34f-2707-4b8c-96df-6ab9d7d969e0",
   "metadata": {},
   "outputs": [],
   "source": [
    "test_dataset = 'BulkGravToWW_1000'\n",
    "events = NanoEventsFactory.from_root(\n",
    "    fileset[test_dataset]['files'],\n",
    "    entry_stop = 10000,\n",
    "    metadata = fileset[test_dataset]['metadata'],\n",
    "    schemaclass = NanoAODSchema,\n",
    "    delayed=False,\n",
    ").events()"
   ]
  },
  {
   "cell_type": "code",
   "execution_count": null,
   "id": "9ef6d729-ea31-4d9d-bb12-bbf3d963d217",
   "metadata": {},
   "outputs": [],
   "source": [
    "events.fields"
   ]
  },
  {
   "cell_type": "code",
   "execution_count": null,
   "id": "af6250d3-c52e-49a9-9d78-e58a28da185c",
   "metadata": {},
   "outputs": [],
   "source": [
    "# Samples from 2018...\n",
    "\n",
    "muons = events.Muon\n",
    "electrons = events.Electron\n",
    "\n",
    "# Exactly one tightly identified electron or muon\n",
    "electron_pt_threshold = 35\n",
    "muon_pt_threshold = 30\n",
    "pt_miss_threshold = 30\n",
    "\n",
    "# Muon TightHWW selection\n",
    "muons_tightHWW = muons[\n",
    "    (muons.pt > 10) &\n",
    "    (np.abs(muons.eta) < 2.4) &\n",
    "    (muons.tightId) &\n",
    "    (\n",
    "        ((muons.pt < 20) & (np.abs(muons.dxy) < 0.01)) |\n",
    "        ((muons.pt >= 20) & (np.abs(muons.dxy) < 0.02))\n",
    "    ) &\n",
    "    (np.abs(muons.dz) < 0.1) &\n",
    "    # particle flow isolated: tight or greater\n",
    "    (muons.pfIsoId >= 4)\n",
    "]"
   ]
  },
  {
   "cell_type": "code",
   "execution_count": null,
   "id": "c40b968b-a628-4c7c-bb8f-19faab8cf053",
   "metadata": {},
   "outputs": [],
   "source": [
    "loose_muons = muons[muons.looseId]\n",
    "loose_muon_count = ak.num(loose_muons[loose_muons.pt > 10])\n",
    "\n",
    "loose_electrons = electrons[(electrons.cutBased >= 2)]\n",
    "loose_electron_count = ak.num(loose_electrons[loose_electrons.pt > 10])\n",
    "\n",
    "# Mask for vetoing extra loose leptons\n",
    "loose_lepton_veto_mask = (loose_muon_count + loose_electron_count) == 1"
   ]
  },
  {
   "cell_type": "code",
   "execution_count": null,
   "id": "240a1d88-7e4c-45fd-a9db-3ad9a6d8da1c",
   "metadata": {},
   "outputs": [],
   "source": []
  },
  {
   "cell_type": "code",
   "execution_count": null,
   "id": "dad9b106-8cb1-468d-b624-bdf6ffa56701",
   "metadata": {},
   "outputs": [],
   "source": []
  },
  {
   "cell_type": "code",
   "execution_count": null,
   "id": "d009a432-0734-43ec-8810-db21b902995e",
   "metadata": {},
   "outputs": [],
   "source": []
  },
  {
   "cell_type": "code",
   "execution_count": null,
   "id": "7fa8cbb5-6648-4472-b99d-9e35edd8e9aa",
   "metadata": {},
   "outputs": [],
   "source": []
  },
  {
   "cell_type": "code",
   "execution_count": null,
   "id": "40ac0a1b-3614-4ae6-ae7e-ec95f6648fb4",
   "metadata": {},
   "outputs": [],
   "source": [
    "clean_fatJets = events.FatJet[(events.FatJet.pt > 200) & (np.abs(events.FatJet.eta) < 2.4)]\n",
    "\n"
   ]
  },
  {
   "cell_type": "code",
   "execution_count": null,
   "id": "93ecb973-474b-4b5a-a427-ce4191a63689",
   "metadata": {},
   "outputs": [],
   "source": [
    "#Jets cuts\n",
    "clean_Jets = events.Jet[(events.Jet.pt > 30) & (np.abs(events.Jet.eta) < 4.7)]\n",
    "\n",
    "#Removing AK4(Jet) jets overlapping with AK8(FatJets) jets\n",
    "# Get all combinations of jets and fatjets in every event\n",
    "jets_fatjets = ak.cartesian({\"x\": clean_Jets, \"y\": clean_fatJets})\n",
    "# Check that jets satisfy the isolation\n",
    "jets_iso_f = ((jets_fatjets[\"x\"].eta-jets_fatjets[\"y\"].eta)**2+(jets_fatjets[\"x\"].phi-jets_fatjets[\"y\"].phi)**2>0.8**2)\n",
    "# Mask the jets_fatjets with the jets_iso_f to get jets isolated from fatjets\n",
    "jets_fatjets = jets_fatjets[jets_iso_f]\n",
    "# Separate pairs into jets and fatjets, redefining the jets (but not the fatjets)\n",
    "jets, fj = ak.unzip(jets_fatjets)"
   ]
  },
  {
   "cell_type": "code",
   "execution_count": null,
   "id": "020bce62-eec1-4301-836f-ba657c4b1b1f",
   "metadata": {},
   "outputs": [],
   "source": [
    "\n",
    "AK8jets_candidates_mask = ak.num(clean_fatJets) >= 1\n",
    "\n",
    "Wjets_candidates = clean_fatJets[AK8jets_candidates_mask]\n",
    "leading_W_jet = Wjets_candidates[:, 0]\n",
    "leading_W_jet_pt = leading_W_jet.pt\n",
    "\n",
    "leading_W_pt_hist = hist.Hist(hist.axis.StrCategory(name='dataset', label=\"Dataset\", categories=[], growth=True),\n",
    "                            hist.axis.Regular(name='leading_AK8_pt', label='Leading AK8 p_T (GeV)', bins=80, start=0, stop=4000))\n",
    "leading_W_pt_hist.fill(dataset=test_dataset, leading_AK8_pt=leading_W_jet_pt)\n",
    "leading_W_pt_hist.plot1d()"
   ]
  },
  {
   "cell_type": "code",
   "execution_count": null,
   "id": "e07d7be4-ddf7-49db-a949-4e9fa84206c7",
   "metadata": {},
   "outputs": [],
   "source": [
    "# basic h5 creation\n",
    "import pandas as pd\n",
    "# Convert awkward array to numpy array (flat)\n",
    "leading_W_jet_pt_np = ak.to_numpy(leading_W_jet_pt)\n",
    "\n",
    "# Optional — wrap in a DataFrame for easy labeling\n",
    "df_leading_W_jet_pt = pd.DataFrame({'leading_W_jet_pt': leading_W_jet_pt_np})\n"
   ]
  },
  {
   "cell_type": "code",
   "execution_count": null,
   "id": "051c849f-0fc7-454c-a95a-3c57e95cf4e1",
   "metadata": {},
   "outputs": [],
   "source": [
    "df_leading_W_jet_pt.to_hdf('leading_W_jet_pt.h5', key='df', mode='w')\n"
   ]
  },
  {
   "cell_type": "code",
   "execution_count": null,
   "id": "e2d70097-f13f-43a2-b68d-0ac9946bf317",
   "metadata": {},
   "outputs": [],
   "source": [
    "pd.read_hdf('leading_W_jet_pt.h5')\n"
   ]
  },
  {
   "cell_type": "code",
   "execution_count": null,
   "id": "a334e628-1af2-4b11-8360-bd76a43656ed",
   "metadata": {},
   "outputs": [],
   "source": []
  }
 ],
 "metadata": {
  "kernelspec": {
   "display_name": "Python 3 (ipykernel)",
   "language": "python",
   "name": "python3"
  },
  "language_info": {
   "codemirror_mode": {
    "name": "ipython",
    "version": 3
   },
   "file_extension": ".py",
   "mimetype": "text/x-python",
   "name": "python",
   "nbconvert_exporter": "python",
   "pygments_lexer": "ipython3",
   "version": "3.12.5"
  }
 },
 "nbformat": 4,
 "nbformat_minor": 5
}
